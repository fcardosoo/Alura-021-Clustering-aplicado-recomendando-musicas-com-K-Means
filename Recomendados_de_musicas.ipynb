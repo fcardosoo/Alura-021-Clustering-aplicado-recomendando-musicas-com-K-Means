{
 "cells": [
  {
   "cell_type": "markdown",
   "metadata": {},
   "source": [
    "## Recomendador de Músicas"
   ]
  },
  {
   "cell_type": "code",
   "execution_count": 1,
   "metadata": {},
   "outputs": [],
   "source": [
    "import pandas as pd\n",
    "import numpy as np"
   ]
  },
  {
   "cell_type": "code",
   "execution_count": 2,
   "metadata": {},
   "outputs": [],
   "source": [
    "dados = pd.read_csv('Dados/Dados_totais.csv')\n",
    "dados_generos = pd.read_csv('Dados/data_by_genres.csv')\n",
    "dados_anos = pd.read_csv('Dados/data_by_year.csv')"
   ]
  },
  {
   "cell_type": "code",
   "execution_count": 3,
   "metadata": {},
   "outputs": [
    {
     "data": {
      "text/html": [
       "<div>\n",
       "<style scoped>\n",
       "    .dataframe tbody tr th:only-of-type {\n",
       "        vertical-align: middle;\n",
       "    }\n",
       "\n",
       "    .dataframe tbody tr th {\n",
       "        vertical-align: top;\n",
       "    }\n",
       "\n",
       "    .dataframe thead th {\n",
       "        text-align: right;\n",
       "    }\n",
       "</style>\n",
       "<table border=\"1\" class=\"dataframe\">\n",
       "  <thead>\n",
       "    <tr style=\"text-align: right;\">\n",
       "      <th></th>\n",
       "      <th>valence</th>\n",
       "      <th>year</th>\n",
       "      <th>acousticness</th>\n",
       "      <th>artists</th>\n",
       "      <th>danceability</th>\n",
       "      <th>duration_ms</th>\n",
       "      <th>energy</th>\n",
       "      <th>explicit</th>\n",
       "      <th>id</th>\n",
       "      <th>instrumentalness</th>\n",
       "      <th>key</th>\n",
       "      <th>liveness</th>\n",
       "      <th>loudness</th>\n",
       "      <th>mode</th>\n",
       "      <th>name</th>\n",
       "      <th>popularity</th>\n",
       "      <th>speechiness</th>\n",
       "      <th>tempo</th>\n",
       "      <th>artists_song</th>\n",
       "    </tr>\n",
       "  </thead>\n",
       "  <tbody>\n",
       "    <tr>\n",
       "      <th>0</th>\n",
       "      <td>0.285</td>\n",
       "      <td>2000</td>\n",
       "      <td>0.00239</td>\n",
       "      <td>Coldplay</td>\n",
       "      <td>0.429</td>\n",
       "      <td>266773</td>\n",
       "      <td>0.661</td>\n",
       "      <td>0</td>\n",
       "      <td>3AJwUDP919kvQ9QcozQPxg</td>\n",
       "      <td>0.000121</td>\n",
       "      <td>11</td>\n",
       "      <td>0.2340</td>\n",
       "      <td>-7.227</td>\n",
       "      <td>1</td>\n",
       "      <td>Yellow</td>\n",
       "      <td>84</td>\n",
       "      <td>0.0281</td>\n",
       "      <td>173.372</td>\n",
       "      <td>Coldplay - Yellow</td>\n",
       "    </tr>\n",
       "    <tr>\n",
       "      <th>1</th>\n",
       "      <td>0.613</td>\n",
       "      <td>2000</td>\n",
       "      <td>0.14300</td>\n",
       "      <td>OutKast</td>\n",
       "      <td>0.843</td>\n",
       "      <td>270507</td>\n",
       "      <td>0.806</td>\n",
       "      <td>1</td>\n",
       "      <td>0I3q5fE6wg7LIfHGngUTnV</td>\n",
       "      <td>0.000000</td>\n",
       "      <td>4</td>\n",
       "      <td>0.0771</td>\n",
       "      <td>-5.946</td>\n",
       "      <td>0</td>\n",
       "      <td>Ms. Jackson</td>\n",
       "      <td>80</td>\n",
       "      <td>0.2690</td>\n",
       "      <td>94.948</td>\n",
       "      <td>OutKast - Ms. Jackson</td>\n",
       "    </tr>\n",
       "    <tr>\n",
       "      <th>2</th>\n",
       "      <td>0.400</td>\n",
       "      <td>2000</td>\n",
       "      <td>0.00958</td>\n",
       "      <td>Linkin Park</td>\n",
       "      <td>0.556</td>\n",
       "      <td>216880</td>\n",
       "      <td>0.864</td>\n",
       "      <td>0</td>\n",
       "      <td>60a0Rd6pjrkxjPbaKzXjfq</td>\n",
       "      <td>0.000000</td>\n",
       "      <td>3</td>\n",
       "      <td>0.2090</td>\n",
       "      <td>-5.870</td>\n",
       "      <td>0</td>\n",
       "      <td>In the End</td>\n",
       "      <td>84</td>\n",
       "      <td>0.0584</td>\n",
       "      <td>105.143</td>\n",
       "      <td>Linkin Park - In the End</td>\n",
       "    </tr>\n",
       "    <tr>\n",
       "      <th>3</th>\n",
       "      <td>0.543</td>\n",
       "      <td>2000</td>\n",
       "      <td>0.00664</td>\n",
       "      <td>3 Doors Down</td>\n",
       "      <td>0.545</td>\n",
       "      <td>233933</td>\n",
       "      <td>0.865</td>\n",
       "      <td>0</td>\n",
       "      <td>6ZOBP3NvffbU4SZcrnt1k6</td>\n",
       "      <td>0.000011</td>\n",
       "      <td>11</td>\n",
       "      <td>0.1680</td>\n",
       "      <td>-5.708</td>\n",
       "      <td>0</td>\n",
       "      <td>Kryptonite</td>\n",
       "      <td>78</td>\n",
       "      <td>0.0286</td>\n",
       "      <td>99.009</td>\n",
       "      <td>3 Doors Down - Kryptonite</td>\n",
       "    </tr>\n",
       "    <tr>\n",
       "      <th>4</th>\n",
       "      <td>0.760</td>\n",
       "      <td>2000</td>\n",
       "      <td>0.03020</td>\n",
       "      <td>Eminem</td>\n",
       "      <td>0.949</td>\n",
       "      <td>284200</td>\n",
       "      <td>0.661</td>\n",
       "      <td>1</td>\n",
       "      <td>3yfqSUWxFvZELEM4PmlwIR</td>\n",
       "      <td>0.000000</td>\n",
       "      <td>5</td>\n",
       "      <td>0.0454</td>\n",
       "      <td>-4.244</td>\n",
       "      <td>0</td>\n",
       "      <td>The Real Slim Shady</td>\n",
       "      <td>80</td>\n",
       "      <td>0.0572</td>\n",
       "      <td>104.504</td>\n",
       "      <td>Eminem - The Real Slim Shady</td>\n",
       "    </tr>\n",
       "  </tbody>\n",
       "</table>\n",
       "</div>"
      ],
      "text/plain": [
       "   valence  year  acousticness       artists  danceability  duration_ms  \\\n",
       "0    0.285  2000       0.00239      Coldplay         0.429       266773   \n",
       "1    0.613  2000       0.14300       OutKast         0.843       270507   \n",
       "2    0.400  2000       0.00958   Linkin Park         0.556       216880   \n",
       "3    0.543  2000       0.00664  3 Doors Down         0.545       233933   \n",
       "4    0.760  2000       0.03020        Eminem         0.949       284200   \n",
       "\n",
       "   energy  explicit                      id  instrumentalness  key  liveness  \\\n",
       "0   0.661         0  3AJwUDP919kvQ9QcozQPxg          0.000121   11    0.2340   \n",
       "1   0.806         1  0I3q5fE6wg7LIfHGngUTnV          0.000000    4    0.0771   \n",
       "2   0.864         0  60a0Rd6pjrkxjPbaKzXjfq          0.000000    3    0.2090   \n",
       "3   0.865         0  6ZOBP3NvffbU4SZcrnt1k6          0.000011   11    0.1680   \n",
       "4   0.661         1  3yfqSUWxFvZELEM4PmlwIR          0.000000    5    0.0454   \n",
       "\n",
       "   loudness  mode                 name  popularity  speechiness    tempo  \\\n",
       "0    -7.227     1               Yellow          84       0.0281  173.372   \n",
       "1    -5.946     0          Ms. Jackson          80       0.2690   94.948   \n",
       "2    -5.870     0           In the End          84       0.0584  105.143   \n",
       "3    -5.708     0           Kryptonite          78       0.0286   99.009   \n",
       "4    -4.244     0  The Real Slim Shady          80       0.0572  104.504   \n",
       "\n",
       "                   artists_song  \n",
       "0             Coldplay - Yellow  \n",
       "1         OutKast - Ms. Jackson  \n",
       "2      Linkin Park - In the End  \n",
       "3     3 Doors Down - Kryptonite  \n",
       "4  Eminem - The Real Slim Shady  "
      ]
     },
     "execution_count": 3,
     "metadata": {},
     "output_type": "execute_result"
    }
   ],
   "source": [
    "dados.head()"
   ]
  },
  {
   "cell_type": "code",
   "execution_count": 4,
   "metadata": {},
   "outputs": [
    {
     "data": {
      "text/plain": [
       "array([2000, 2001, 2002, 2003, 2004, 2005, 2006, 2007, 2008, 2009, 2010,\n",
       "       2011, 2012, 2013, 2014, 2015, 2016, 2017, 2018, 2019, 2020],\n",
       "      dtype=int64)"
      ]
     },
     "execution_count": 4,
     "metadata": {},
     "output_type": "execute_result"
    }
   ],
   "source": [
    "dados['year'].unique()"
   ]
  },
  {
   "cell_type": "code",
   "execution_count": 5,
   "metadata": {},
   "outputs": [
    {
     "data": {
      "text/plain": [
       "(20311, 19)"
      ]
     },
     "execution_count": 5,
     "metadata": {},
     "output_type": "execute_result"
    }
   ],
   "source": [
    "dados.shape"
   ]
  },
  {
   "cell_type": "code",
   "execution_count": 6,
   "metadata": {},
   "outputs": [
    {
     "data": {
      "text/html": [
       "<div>\n",
       "<style scoped>\n",
       "    .dataframe tbody tr th:only-of-type {\n",
       "        vertical-align: middle;\n",
       "    }\n",
       "\n",
       "    .dataframe tbody tr th {\n",
       "        vertical-align: top;\n",
       "    }\n",
       "\n",
       "    .dataframe thead th {\n",
       "        text-align: right;\n",
       "    }\n",
       "</style>\n",
       "<table border=\"1\" class=\"dataframe\">\n",
       "  <thead>\n",
       "    <tr style=\"text-align: right;\">\n",
       "      <th></th>\n",
       "      <th>valence</th>\n",
       "      <th>year</th>\n",
       "      <th>acousticness</th>\n",
       "      <th>artists</th>\n",
       "      <th>danceability</th>\n",
       "      <th>duration_ms</th>\n",
       "      <th>energy</th>\n",
       "      <th>explicit</th>\n",
       "      <th>id</th>\n",
       "      <th>instrumentalness</th>\n",
       "      <th>key</th>\n",
       "      <th>liveness</th>\n",
       "      <th>loudness</th>\n",
       "      <th>mode</th>\n",
       "      <th>name</th>\n",
       "      <th>popularity</th>\n",
       "      <th>speechiness</th>\n",
       "      <th>tempo</th>\n",
       "      <th>artists_song</th>\n",
       "    </tr>\n",
       "  </thead>\n",
       "  <tbody>\n",
       "    <tr>\n",
       "      <th>0</th>\n",
       "      <td>0.285</td>\n",
       "      <td>2000</td>\n",
       "      <td>0.00239</td>\n",
       "      <td>Coldplay</td>\n",
       "      <td>0.429</td>\n",
       "      <td>266773</td>\n",
       "      <td>0.661</td>\n",
       "      <td>0</td>\n",
       "      <td>3AJwUDP919kvQ9QcozQPxg</td>\n",
       "      <td>0.000121</td>\n",
       "      <td>11</td>\n",
       "      <td>0.2340</td>\n",
       "      <td>-7.227</td>\n",
       "      <td>1</td>\n",
       "      <td>Yellow</td>\n",
       "      <td>84</td>\n",
       "      <td>0.0281</td>\n",
       "      <td>173.372</td>\n",
       "      <td>Coldplay - Yellow</td>\n",
       "    </tr>\n",
       "    <tr>\n",
       "      <th>1</th>\n",
       "      <td>0.613</td>\n",
       "      <td>2000</td>\n",
       "      <td>0.14300</td>\n",
       "      <td>OutKast</td>\n",
       "      <td>0.843</td>\n",
       "      <td>270507</td>\n",
       "      <td>0.806</td>\n",
       "      <td>1</td>\n",
       "      <td>0I3q5fE6wg7LIfHGngUTnV</td>\n",
       "      <td>0.000000</td>\n",
       "      <td>4</td>\n",
       "      <td>0.0771</td>\n",
       "      <td>-5.946</td>\n",
       "      <td>0</td>\n",
       "      <td>Ms. Jackson</td>\n",
       "      <td>80</td>\n",
       "      <td>0.2690</td>\n",
       "      <td>94.948</td>\n",
       "      <td>OutKast - Ms. Jackson</td>\n",
       "    </tr>\n",
       "  </tbody>\n",
       "</table>\n",
       "</div>"
      ],
      "text/plain": [
       "   valence  year  acousticness   artists  danceability  duration_ms  energy  \\\n",
       "0    0.285  2000       0.00239  Coldplay         0.429       266773   0.661   \n",
       "1    0.613  2000       0.14300   OutKast         0.843       270507   0.806   \n",
       "\n",
       "   explicit                      id  instrumentalness  key  liveness  \\\n",
       "0         0  3AJwUDP919kvQ9QcozQPxg          0.000121   11    0.2340   \n",
       "1         1  0I3q5fE6wg7LIfHGngUTnV          0.000000    4    0.0771   \n",
       "\n",
       "   loudness  mode         name  popularity  speechiness    tempo  \\\n",
       "0    -7.227     1       Yellow          84       0.0281  173.372   \n",
       "1    -5.946     0  Ms. Jackson          80       0.2690   94.948   \n",
       "\n",
       "            artists_song  \n",
       "0      Coldplay - Yellow  \n",
       "1  OutKast - Ms. Jackson  "
      ]
     },
     "execution_count": 6,
     "metadata": {},
     "output_type": "execute_result"
    }
   ],
   "source": [
    "dados.drop(['explicit', 'key', 'mode'], axis=1)\n",
    "dados.head(2)"
   ]
  },
  {
   "cell_type": "code",
   "execution_count": 7,
   "metadata": {},
   "outputs": [
    {
     "data": {
      "text/plain": [
       "valence             0\n",
       "year                0\n",
       "acousticness        0\n",
       "artists             0\n",
       "danceability        0\n",
       "duration_ms         0\n",
       "energy              0\n",
       "explicit            0\n",
       "id                  0\n",
       "instrumentalness    0\n",
       "key                 0\n",
       "liveness            0\n",
       "loudness            0\n",
       "mode                0\n",
       "name                0\n",
       "popularity          0\n",
       "speechiness         0\n",
       "tempo               0\n",
       "artists_song        0\n",
       "dtype: int64"
      ]
     },
     "execution_count": 7,
     "metadata": {},
     "output_type": "execute_result"
    }
   ],
   "source": [
    "# Verificação de dados nulos\n",
    "dados.isnull().sum()"
   ]
  },
  {
   "cell_type": "code",
   "execution_count": 8,
   "metadata": {},
   "outputs": [
    {
     "data": {
      "text/plain": [
       "valence             0\n",
       "year                0\n",
       "acousticness        0\n",
       "artists             0\n",
       "danceability        0\n",
       "duration_ms         0\n",
       "energy              0\n",
       "explicit            0\n",
       "id                  0\n",
       "instrumentalness    0\n",
       "key                 0\n",
       "liveness            0\n",
       "loudness            0\n",
       "mode                0\n",
       "name                0\n",
       "popularity          0\n",
       "speechiness         0\n",
       "tempo               0\n",
       "artists_song        0\n",
       "dtype: int64"
      ]
     },
     "execution_count": 8,
     "metadata": {},
     "output_type": "execute_result"
    }
   ],
   "source": [
    "# Verificando a presença de dados do tipo NaN\n",
    "dados.isna().sum()"
   ]
  },
  {
   "cell_type": "code",
   "execution_count": 9,
   "metadata": {},
   "outputs": [
    {
     "data": {
      "text/html": [
       "<div>\n",
       "<style scoped>\n",
       "    .dataframe tbody tr th:only-of-type {\n",
       "        vertical-align: middle;\n",
       "    }\n",
       "\n",
       "    .dataframe tbody tr th {\n",
       "        vertical-align: top;\n",
       "    }\n",
       "\n",
       "    .dataframe thead th {\n",
       "        text-align: right;\n",
       "    }\n",
       "</style>\n",
       "<table border=\"1\" class=\"dataframe\">\n",
       "  <thead>\n",
       "    <tr style=\"text-align: right;\">\n",
       "      <th></th>\n",
       "      <th>mode</th>\n",
       "      <th>genres</th>\n",
       "      <th>acousticness</th>\n",
       "      <th>danceability</th>\n",
       "      <th>duration_ms</th>\n",
       "      <th>energy</th>\n",
       "      <th>instrumentalness</th>\n",
       "      <th>liveness</th>\n",
       "      <th>loudness</th>\n",
       "      <th>speechiness</th>\n",
       "      <th>tempo</th>\n",
       "      <th>valence</th>\n",
       "      <th>popularity</th>\n",
       "      <th>key</th>\n",
       "    </tr>\n",
       "  </thead>\n",
       "  <tbody>\n",
       "    <tr>\n",
       "      <th>0</th>\n",
       "      <td>1</td>\n",
       "      <td>21st century classical</td>\n",
       "      <td>0.979333</td>\n",
       "      <td>0.162883</td>\n",
       "      <td>1.602977e+05</td>\n",
       "      <td>0.071317</td>\n",
       "      <td>0.606834</td>\n",
       "      <td>0.3616</td>\n",
       "      <td>-31.514333</td>\n",
       "      <td>0.040567</td>\n",
       "      <td>75.336500</td>\n",
       "      <td>0.103783</td>\n",
       "      <td>27.833333</td>\n",
       "      <td>6</td>\n",
       "    </tr>\n",
       "    <tr>\n",
       "      <th>1</th>\n",
       "      <td>1</td>\n",
       "      <td>432hz</td>\n",
       "      <td>0.494780</td>\n",
       "      <td>0.299333</td>\n",
       "      <td>1.048887e+06</td>\n",
       "      <td>0.450678</td>\n",
       "      <td>0.477762</td>\n",
       "      <td>0.1310</td>\n",
       "      <td>-16.854000</td>\n",
       "      <td>0.076817</td>\n",
       "      <td>120.285667</td>\n",
       "      <td>0.221750</td>\n",
       "      <td>52.500000</td>\n",
       "      <td>5</td>\n",
       "    </tr>\n",
       "  </tbody>\n",
       "</table>\n",
       "</div>"
      ],
      "text/plain": [
       "   mode                  genres  acousticness  danceability   duration_ms  \\\n",
       "0     1  21st century classical      0.979333      0.162883  1.602977e+05   \n",
       "1     1                   432hz      0.494780      0.299333  1.048887e+06   \n",
       "\n",
       "     energy  instrumentalness  liveness   loudness  speechiness       tempo  \\\n",
       "0  0.071317          0.606834    0.3616 -31.514333     0.040567   75.336500   \n",
       "1  0.450678          0.477762    0.1310 -16.854000     0.076817  120.285667   \n",
       "\n",
       "    valence  popularity  key  \n",
       "0  0.103783   27.833333    6  \n",
       "1  0.221750   52.500000    5  "
      ]
     },
     "execution_count": 9,
     "metadata": {},
     "output_type": "execute_result"
    }
   ],
   "source": [
    "dados_generos.head(2)"
   ]
  },
  {
   "cell_type": "code",
   "execution_count": 10,
   "metadata": {},
   "outputs": [
    {
     "data": {
      "text/html": [
       "<div>\n",
       "<style scoped>\n",
       "    .dataframe tbody tr th:only-of-type {\n",
       "        vertical-align: middle;\n",
       "    }\n",
       "\n",
       "    .dataframe tbody tr th {\n",
       "        vertical-align: top;\n",
       "    }\n",
       "\n",
       "    .dataframe thead th {\n",
       "        text-align: right;\n",
       "    }\n",
       "</style>\n",
       "<table border=\"1\" class=\"dataframe\">\n",
       "  <thead>\n",
       "    <tr style=\"text-align: right;\">\n",
       "      <th></th>\n",
       "      <th>genres</th>\n",
       "      <th>acousticness</th>\n",
       "      <th>danceability</th>\n",
       "      <th>duration_ms</th>\n",
       "      <th>energy</th>\n",
       "      <th>instrumentalness</th>\n",
       "      <th>liveness</th>\n",
       "      <th>loudness</th>\n",
       "      <th>speechiness</th>\n",
       "      <th>tempo</th>\n",
       "      <th>valence</th>\n",
       "      <th>popularity</th>\n",
       "    </tr>\n",
       "  </thead>\n",
       "  <tbody>\n",
       "    <tr>\n",
       "      <th>0</th>\n",
       "      <td>21st century classical</td>\n",
       "      <td>0.979333</td>\n",
       "      <td>0.162883</td>\n",
       "      <td>1.602977e+05</td>\n",
       "      <td>0.071317</td>\n",
       "      <td>0.606834</td>\n",
       "      <td>0.3616</td>\n",
       "      <td>-31.514333</td>\n",
       "      <td>0.040567</td>\n",
       "      <td>75.336500</td>\n",
       "      <td>0.103783</td>\n",
       "      <td>27.833333</td>\n",
       "    </tr>\n",
       "    <tr>\n",
       "      <th>1</th>\n",
       "      <td>432hz</td>\n",
       "      <td>0.494780</td>\n",
       "      <td>0.299333</td>\n",
       "      <td>1.048887e+06</td>\n",
       "      <td>0.450678</td>\n",
       "      <td>0.477762</td>\n",
       "      <td>0.1310</td>\n",
       "      <td>-16.854000</td>\n",
       "      <td>0.076817</td>\n",
       "      <td>120.285667</td>\n",
       "      <td>0.221750</td>\n",
       "      <td>52.500000</td>\n",
       "    </tr>\n",
       "  </tbody>\n",
       "</table>\n",
       "</div>"
      ],
      "text/plain": [
       "                   genres  acousticness  danceability   duration_ms    energy  \\\n",
       "0  21st century classical      0.979333      0.162883  1.602977e+05  0.071317   \n",
       "1                   432hz      0.494780      0.299333  1.048887e+06  0.450678   \n",
       "\n",
       "   instrumentalness  liveness   loudness  speechiness       tempo   valence  \\\n",
       "0          0.606834    0.3616 -31.514333     0.040567   75.336500  0.103783   \n",
       "1          0.477762    0.1310 -16.854000     0.076817  120.285667  0.221750   \n",
       "\n",
       "   popularity  \n",
       "0   27.833333  \n",
       "1   52.500000  "
      ]
     },
     "execution_count": 10,
     "metadata": {},
     "output_type": "execute_result"
    }
   ],
   "source": [
    "dados_generos = dados_generos.drop(['key', 'mode'], axis=1)\n",
    "dados_generos.head(2)"
   ]
  },
  {
   "cell_type": "code",
   "execution_count": 11,
   "metadata": {},
   "outputs": [
    {
     "data": {
      "text/plain": [
       "valence             0\n",
       "year                0\n",
       "acousticness        0\n",
       "artists             0\n",
       "danceability        0\n",
       "duration_ms         0\n",
       "energy              0\n",
       "explicit            0\n",
       "id                  0\n",
       "instrumentalness    0\n",
       "key                 0\n",
       "liveness            0\n",
       "loudness            0\n",
       "mode                0\n",
       "name                0\n",
       "popularity          0\n",
       "speechiness         0\n",
       "tempo               0\n",
       "artists_song        0\n",
       "dtype: int64"
      ]
     },
     "execution_count": 11,
     "metadata": {},
     "output_type": "execute_result"
    }
   ],
   "source": [
    "# Verificando a presença de dados Nulos\n",
    "dados.isnull().sum()"
   ]
  },
  {
   "cell_type": "code",
   "execution_count": 12,
   "metadata": {},
   "outputs": [
    {
     "data": {
      "text/plain": [
       "valence             0\n",
       "year                0\n",
       "acousticness        0\n",
       "artists             0\n",
       "danceability        0\n",
       "duration_ms         0\n",
       "energy              0\n",
       "explicit            0\n",
       "id                  0\n",
       "instrumentalness    0\n",
       "key                 0\n",
       "liveness            0\n",
       "loudness            0\n",
       "mode                0\n",
       "name                0\n",
       "popularity          0\n",
       "speechiness         0\n",
       "tempo               0\n",
       "artists_song        0\n",
       "dtype: int64"
      ]
     },
     "execution_count": 12,
     "metadata": {},
     "output_type": "execute_result"
    }
   ],
   "source": [
    "# Verificando a presença de dados do tipo NaN\n",
    "dados.isna().sum()"
   ]
  },
  {
   "cell_type": "code",
   "execution_count": 13,
   "metadata": {},
   "outputs": [
    {
     "data": {
      "text/html": [
       "<div>\n",
       "<style scoped>\n",
       "    .dataframe tbody tr th:only-of-type {\n",
       "        vertical-align: middle;\n",
       "    }\n",
       "\n",
       "    .dataframe tbody tr th {\n",
       "        vertical-align: top;\n",
       "    }\n",
       "\n",
       "    .dataframe thead th {\n",
       "        text-align: right;\n",
       "    }\n",
       "</style>\n",
       "<table border=\"1\" class=\"dataframe\">\n",
       "  <thead>\n",
       "    <tr style=\"text-align: right;\">\n",
       "      <th></th>\n",
       "      <th>mode</th>\n",
       "      <th>year</th>\n",
       "      <th>acousticness</th>\n",
       "      <th>danceability</th>\n",
       "      <th>duration_ms</th>\n",
       "      <th>energy</th>\n",
       "      <th>instrumentalness</th>\n",
       "      <th>liveness</th>\n",
       "      <th>loudness</th>\n",
       "      <th>speechiness</th>\n",
       "      <th>tempo</th>\n",
       "      <th>valence</th>\n",
       "      <th>popularity</th>\n",
       "      <th>key</th>\n",
       "    </tr>\n",
       "  </thead>\n",
       "  <tbody>\n",
       "    <tr>\n",
       "      <th>0</th>\n",
       "      <td>1</td>\n",
       "      <td>1921</td>\n",
       "      <td>0.886896</td>\n",
       "      <td>0.418597</td>\n",
       "      <td>260537.166667</td>\n",
       "      <td>0.231815</td>\n",
       "      <td>0.344878</td>\n",
       "      <td>0.20571</td>\n",
       "      <td>-17.048667</td>\n",
       "      <td>0.073662</td>\n",
       "      <td>101.531493</td>\n",
       "      <td>0.379327</td>\n",
       "      <td>0.653333</td>\n",
       "      <td>2</td>\n",
       "    </tr>\n",
       "    <tr>\n",
       "      <th>1</th>\n",
       "      <td>1</td>\n",
       "      <td>1922</td>\n",
       "      <td>0.938592</td>\n",
       "      <td>0.482042</td>\n",
       "      <td>165469.746479</td>\n",
       "      <td>0.237815</td>\n",
       "      <td>0.434195</td>\n",
       "      <td>0.24072</td>\n",
       "      <td>-19.275282</td>\n",
       "      <td>0.116655</td>\n",
       "      <td>100.884521</td>\n",
       "      <td>0.535549</td>\n",
       "      <td>0.140845</td>\n",
       "      <td>10</td>\n",
       "    </tr>\n",
       "  </tbody>\n",
       "</table>\n",
       "</div>"
      ],
      "text/plain": [
       "   mode  year  acousticness  danceability    duration_ms    energy  \\\n",
       "0     1  1921      0.886896      0.418597  260537.166667  0.231815   \n",
       "1     1  1922      0.938592      0.482042  165469.746479  0.237815   \n",
       "\n",
       "   instrumentalness  liveness   loudness  speechiness       tempo   valence  \\\n",
       "0          0.344878   0.20571 -17.048667     0.073662  101.531493  0.379327   \n",
       "1          0.434195   0.24072 -19.275282     0.116655  100.884521  0.535549   \n",
       "\n",
       "   popularity  key  \n",
       "0    0.653333    2  \n",
       "1    0.140845   10  "
      ]
     },
     "execution_count": 13,
     "metadata": {},
     "output_type": "execute_result"
    }
   ],
   "source": [
    "dados_anos.head(2)"
   ]
  },
  {
   "cell_type": "code",
   "execution_count": 14,
   "metadata": {},
   "outputs": [
    {
     "data": {
      "text/plain": [
       "array([1921, 1922, 1923, 1924, 1925, 1926, 1927, 1928, 1929, 1930, 1931,\n",
       "       1932, 1933, 1934, 1935, 1936, 1937, 1938, 1939, 1940, 1941, 1942,\n",
       "       1943, 1944, 1945, 1946, 1947, 1948, 1949, 1950, 1951, 1952, 1953,\n",
       "       1954, 1955, 1956, 1957, 1958, 1959, 1960, 1961, 1962, 1963, 1964,\n",
       "       1965, 1966, 1967, 1968, 1969, 1970, 1971, 1972, 1973, 1974, 1975,\n",
       "       1976, 1977, 1978, 1979, 1980, 1981, 1982, 1983, 1984, 1985, 1986,\n",
       "       1987, 1988, 1989, 1990, 1991, 1992, 1993, 1994, 1995, 1996, 1997,\n",
       "       1998, 1999, 2000, 2001, 2002, 2003, 2004, 2005, 2006, 2007, 2008,\n",
       "       2009, 2010, 2011, 2012, 2013, 2014, 2015, 2016, 2017, 2018, 2019,\n",
       "       2020], dtype=int64)"
      ]
     },
     "execution_count": 14,
     "metadata": {},
     "output_type": "execute_result"
    }
   ],
   "source": [
    "dados_anos['year'].unique()"
   ]
  },
  {
   "cell_type": "code",
   "execution_count": 15,
   "metadata": {},
   "outputs": [
    {
     "data": {
      "text/plain": [
       "array([2000, 2001, 2002, 2003, 2004, 2005, 2006, 2007, 2008, 2009, 2010,\n",
       "       2011, 2012, 2013, 2014, 2015, 2016, 2017, 2018, 2019, 2020],\n",
       "      dtype=int64)"
      ]
     },
     "execution_count": 15,
     "metadata": {},
     "output_type": "execute_result"
    }
   ],
   "source": [
    "# Filtrar os dados a partir dos anos 2000\n",
    "dados_anos = dados_anos[dados_anos['year'] >= 2000]\n",
    "dados_anos['year'].unique()"
   ]
  },
  {
   "cell_type": "code",
   "execution_count": 16,
   "metadata": {},
   "outputs": [
    {
     "data": {
      "text/html": [
       "<div>\n",
       "<style scoped>\n",
       "    .dataframe tbody tr th:only-of-type {\n",
       "        vertical-align: middle;\n",
       "    }\n",
       "\n",
       "    .dataframe tbody tr th {\n",
       "        vertical-align: top;\n",
       "    }\n",
       "\n",
       "    .dataframe thead th {\n",
       "        text-align: right;\n",
       "    }\n",
       "</style>\n",
       "<table border=\"1\" class=\"dataframe\">\n",
       "  <thead>\n",
       "    <tr style=\"text-align: right;\">\n",
       "      <th></th>\n",
       "      <th>year</th>\n",
       "      <th>acousticness</th>\n",
       "      <th>danceability</th>\n",
       "      <th>duration_ms</th>\n",
       "      <th>energy</th>\n",
       "      <th>instrumentalness</th>\n",
       "      <th>liveness</th>\n",
       "      <th>loudness</th>\n",
       "      <th>speechiness</th>\n",
       "      <th>tempo</th>\n",
       "      <th>valence</th>\n",
       "      <th>popularity</th>\n",
       "    </tr>\n",
       "  </thead>\n",
       "  <tbody>\n",
       "    <tr>\n",
       "      <th>79</th>\n",
       "      <td>2000</td>\n",
       "      <td>0.289323</td>\n",
       "      <td>0.590918</td>\n",
       "      <td>242724.642638</td>\n",
       "      <td>0.625413</td>\n",
       "      <td>0.101168</td>\n",
       "      <td>0.197686</td>\n",
       "      <td>-8.247766</td>\n",
       "      <td>0.089205</td>\n",
       "      <td>118.999323</td>\n",
       "      <td>0.559475</td>\n",
       "      <td>46.684049</td>\n",
       "    </tr>\n",
       "    <tr>\n",
       "      <th>80</th>\n",
       "      <td>2001</td>\n",
       "      <td>0.286842</td>\n",
       "      <td>0.583318</td>\n",
       "      <td>240307.796010</td>\n",
       "      <td>0.626986</td>\n",
       "      <td>0.107214</td>\n",
       "      <td>0.187026</td>\n",
       "      <td>-8.305095</td>\n",
       "      <td>0.089182</td>\n",
       "      <td>117.765399</td>\n",
       "      <td>0.541479</td>\n",
       "      <td>48.750125</td>\n",
       "    </tr>\n",
       "  </tbody>\n",
       "</table>\n",
       "</div>"
      ],
      "text/plain": [
       "    year  acousticness  danceability    duration_ms    energy  \\\n",
       "79  2000      0.289323      0.590918  242724.642638  0.625413   \n",
       "80  2001      0.286842      0.583318  240307.796010  0.626986   \n",
       "\n",
       "    instrumentalness  liveness  loudness  speechiness       tempo   valence  \\\n",
       "79          0.101168  0.197686 -8.247766     0.089205  118.999323  0.559475   \n",
       "80          0.107214  0.187026 -8.305095     0.089182  117.765399  0.541479   \n",
       "\n",
       "    popularity  \n",
       "79   46.684049  \n",
       "80   48.750125  "
      ]
     },
     "execution_count": 16,
     "metadata": {},
     "output_type": "execute_result"
    }
   ],
   "source": [
    "dados_anos = dados_anos.drop(['key', 'mode'], axis=1)\n",
    "dados_anos.head(2)"
   ]
  },
  {
   "cell_type": "code",
   "execution_count": 17,
   "metadata": {},
   "outputs": [
    {
     "data": {
      "text/html": [
       "<div>\n",
       "<style scoped>\n",
       "    .dataframe tbody tr th:only-of-type {\n",
       "        vertical-align: middle;\n",
       "    }\n",
       "\n",
       "    .dataframe tbody tr th {\n",
       "        vertical-align: top;\n",
       "    }\n",
       "\n",
       "    .dataframe thead th {\n",
       "        text-align: right;\n",
       "    }\n",
       "</style>\n",
       "<table border=\"1\" class=\"dataframe\">\n",
       "  <thead>\n",
       "    <tr style=\"text-align: right;\">\n",
       "      <th></th>\n",
       "      <th>index</th>\n",
       "      <th>year</th>\n",
       "      <th>acousticness</th>\n",
       "      <th>danceability</th>\n",
       "      <th>duration_ms</th>\n",
       "      <th>energy</th>\n",
       "      <th>instrumentalness</th>\n",
       "      <th>liveness</th>\n",
       "      <th>loudness</th>\n",
       "      <th>speechiness</th>\n",
       "      <th>tempo</th>\n",
       "      <th>valence</th>\n",
       "      <th>popularity</th>\n",
       "    </tr>\n",
       "  </thead>\n",
       "  <tbody>\n",
       "    <tr>\n",
       "      <th>0</th>\n",
       "      <td>79</td>\n",
       "      <td>2000</td>\n",
       "      <td>0.289323</td>\n",
       "      <td>0.590918</td>\n",
       "      <td>242724.642638</td>\n",
       "      <td>0.625413</td>\n",
       "      <td>0.101168</td>\n",
       "      <td>0.197686</td>\n",
       "      <td>-8.247766</td>\n",
       "      <td>0.089205</td>\n",
       "      <td>118.999323</td>\n",
       "      <td>0.559475</td>\n",
       "      <td>46.684049</td>\n",
       "    </tr>\n",
       "    <tr>\n",
       "      <th>1</th>\n",
       "      <td>80</td>\n",
       "      <td>2001</td>\n",
       "      <td>0.286842</td>\n",
       "      <td>0.583318</td>\n",
       "      <td>240307.796010</td>\n",
       "      <td>0.626986</td>\n",
       "      <td>0.107214</td>\n",
       "      <td>0.187026</td>\n",
       "      <td>-8.305095</td>\n",
       "      <td>0.089182</td>\n",
       "      <td>117.765399</td>\n",
       "      <td>0.541479</td>\n",
       "      <td>48.750125</td>\n",
       "    </tr>\n",
       "    <tr>\n",
       "      <th>2</th>\n",
       "      <td>81</td>\n",
       "      <td>2002</td>\n",
       "      <td>0.282624</td>\n",
       "      <td>0.576160</td>\n",
       "      <td>239503.283000</td>\n",
       "      <td>0.641270</td>\n",
       "      <td>0.088048</td>\n",
       "      <td>0.193911</td>\n",
       "      <td>-7.686640</td>\n",
       "      <td>0.084308</td>\n",
       "      <td>119.239738</td>\n",
       "      <td>0.542397</td>\n",
       "      <td>48.655500</td>\n",
       "    </tr>\n",
       "    <tr>\n",
       "      <th>3</th>\n",
       "      <td>82</td>\n",
       "      <td>2003</td>\n",
       "      <td>0.256471</td>\n",
       "      <td>0.575763</td>\n",
       "      <td>244670.575230</td>\n",
       "      <td>0.660165</td>\n",
       "      <td>0.083049</td>\n",
       "      <td>0.196976</td>\n",
       "      <td>-7.485545</td>\n",
       "      <td>0.093926</td>\n",
       "      <td>120.914622</td>\n",
       "      <td>0.530504</td>\n",
       "      <td>48.626407</td>\n",
       "    </tr>\n",
       "    <tr>\n",
       "      <th>4</th>\n",
       "      <td>83</td>\n",
       "      <td>2004</td>\n",
       "      <td>0.280559</td>\n",
       "      <td>0.567680</td>\n",
       "      <td>237378.708037</td>\n",
       "      <td>0.648868</td>\n",
       "      <td>0.077934</td>\n",
       "      <td>0.202199</td>\n",
       "      <td>-7.601655</td>\n",
       "      <td>0.094239</td>\n",
       "      <td>121.290346</td>\n",
       "      <td>0.524489</td>\n",
       "      <td>49.273143</td>\n",
       "    </tr>\n",
       "  </tbody>\n",
       "</table>\n",
       "</div>"
      ],
      "text/plain": [
       "   index  year  acousticness  danceability    duration_ms    energy  \\\n",
       "0     79  2000      0.289323      0.590918  242724.642638  0.625413   \n",
       "1     80  2001      0.286842      0.583318  240307.796010  0.626986   \n",
       "2     81  2002      0.282624      0.576160  239503.283000  0.641270   \n",
       "3     82  2003      0.256471      0.575763  244670.575230  0.660165   \n",
       "4     83  2004      0.280559      0.567680  237378.708037  0.648868   \n",
       "\n",
       "   instrumentalness  liveness  loudness  speechiness       tempo   valence  \\\n",
       "0          0.101168  0.197686 -8.247766     0.089205  118.999323  0.559475   \n",
       "1          0.107214  0.187026 -8.305095     0.089182  117.765399  0.541479   \n",
       "2          0.088048  0.193911 -7.686640     0.084308  119.239738  0.542397   \n",
       "3          0.083049  0.196976 -7.485545     0.093926  120.914622  0.530504   \n",
       "4          0.077934  0.202199 -7.601655     0.094239  121.290346  0.524489   \n",
       "\n",
       "   popularity  \n",
       "0   46.684049  \n",
       "1   48.750125  \n",
       "2   48.655500  \n",
       "3   48.626407  \n",
       "4   49.273143  "
      ]
     },
     "execution_count": 17,
     "metadata": {},
     "output_type": "execute_result"
    }
   ],
   "source": [
    "# Ressetando o index\n",
    "dados_anos.reset_index().head(5)"
   ]
  },
  {
   "cell_type": "code",
   "execution_count": 18,
   "metadata": {},
   "outputs": [
    {
     "data": {
      "text/plain": [
       "year                0\n",
       "acousticness        0\n",
       "danceability        0\n",
       "duration_ms         0\n",
       "energy              0\n",
       "instrumentalness    0\n",
       "liveness            0\n",
       "loudness            0\n",
       "speechiness         0\n",
       "tempo               0\n",
       "valence             0\n",
       "popularity          0\n",
       "dtype: int64"
      ]
     },
     "execution_count": 18,
     "metadata": {},
     "output_type": "execute_result"
    }
   ],
   "source": [
    "dados_anos.isnull().sum()"
   ]
  },
  {
   "cell_type": "code",
   "execution_count": 19,
   "metadata": {},
   "outputs": [
    {
     "data": {
      "text/plain": [
       "year                0\n",
       "acousticness        0\n",
       "danceability        0\n",
       "duration_ms         0\n",
       "energy              0\n",
       "instrumentalness    0\n",
       "liveness            0\n",
       "loudness            0\n",
       "speechiness         0\n",
       "tempo               0\n",
       "valence             0\n",
       "popularity          0\n",
       "dtype: int64"
      ]
     },
     "execution_count": 19,
     "metadata": {},
     "output_type": "execute_result"
    }
   ],
   "source": [
    "dados_anos.isna().sum()"
   ]
  },
  {
   "cell_type": "markdown",
   "metadata": {},
   "source": [
    "## 1.5 Análise Gráfica"
   ]
  },
  {
   "cell_type": "code",
   "execution_count": 20,
   "metadata": {},
   "outputs": [],
   "source": [
    "import plotly.express as px"
   ]
  },
  {
   "cell_type": "code",
   "execution_count": 21,
   "metadata": {},
   "outputs": [
    {
     "data": {
      "application/vnd.plotly.v1+json": {
       "config": {
        "plotlyServerURL": "https://plot.ly"
       },
       "data": [
        {
         "hovertemplate": "year=%{x}<br>loudness=%{y}<extra></extra>",
         "legendgroup": "",
         "line": {
          "color": "#636efa",
          "dash": "solid"
         },
         "marker": {
          "symbol": "circle"
         },
         "mode": "markers+lines",
         "name": "",
         "orientation": "v",
         "showlegend": false,
         "type": "scatter",
         "x": [
          2000,
          2001,
          2002,
          2003,
          2004,
          2005,
          2006,
          2007,
          2008,
          2009,
          2010,
          2011,
          2012,
          2013,
          2014,
          2015,
          2016,
          2017,
          2018,
          2019,
          2020
         ],
         "xaxis": "x",
         "y": [
          -8.247765848670758,
          -8.305095261845384,
          -7.686639500000013,
          -7.485545035823955,
          -7.601655137334684,
          -7.46615897435897,
          -7.265500512820514,
          -7.044535897435892,
          -6.8438040920716166,
          -7.0460147959183645,
          -6.9099042658730125,
          -7.574986117997006,
          -7.260549614395888,
          -7.472039473684207,
          -7.06743990024938,
          -7.625639311043569,
          -8.061056204785759,
          -8.31262951807228,
          -7.168785068949124,
          -7.722191893278596,
          -6.595066995073878
         ],
         "yaxis": "y"
        }
       ],
       "layout": {
        "legend": {
         "tracegroupgap": 0
        },
        "template": {
         "data": {
          "bar": [
           {
            "error_x": {
             "color": "#2a3f5f"
            },
            "error_y": {
             "color": "#2a3f5f"
            },
            "marker": {
             "line": {
              "color": "#E5ECF6",
              "width": 0.5
             },
             "pattern": {
              "fillmode": "overlay",
              "size": 10,
              "solidity": 0.2
             }
            },
            "type": "bar"
           }
          ],
          "barpolar": [
           {
            "marker": {
             "line": {
              "color": "#E5ECF6",
              "width": 0.5
             },
             "pattern": {
              "fillmode": "overlay",
              "size": 10,
              "solidity": 0.2
             }
            },
            "type": "barpolar"
           }
          ],
          "carpet": [
           {
            "aaxis": {
             "endlinecolor": "#2a3f5f",
             "gridcolor": "white",
             "linecolor": "white",
             "minorgridcolor": "white",
             "startlinecolor": "#2a3f5f"
            },
            "baxis": {
             "endlinecolor": "#2a3f5f",
             "gridcolor": "white",
             "linecolor": "white",
             "minorgridcolor": "white",
             "startlinecolor": "#2a3f5f"
            },
            "type": "carpet"
           }
          ],
          "choropleth": [
           {
            "colorbar": {
             "outlinewidth": 0,
             "ticks": ""
            },
            "type": "choropleth"
           }
          ],
          "contour": [
           {
            "colorbar": {
             "outlinewidth": 0,
             "ticks": ""
            },
            "colorscale": [
             [
              0,
              "#0d0887"
             ],
             [
              0.1111111111111111,
              "#46039f"
             ],
             [
              0.2222222222222222,
              "#7201a8"
             ],
             [
              0.3333333333333333,
              "#9c179e"
             ],
             [
              0.4444444444444444,
              "#bd3786"
             ],
             [
              0.5555555555555556,
              "#d8576b"
             ],
             [
              0.6666666666666666,
              "#ed7953"
             ],
             [
              0.7777777777777778,
              "#fb9f3a"
             ],
             [
              0.8888888888888888,
              "#fdca26"
             ],
             [
              1,
              "#f0f921"
             ]
            ],
            "type": "contour"
           }
          ],
          "contourcarpet": [
           {
            "colorbar": {
             "outlinewidth": 0,
             "ticks": ""
            },
            "type": "contourcarpet"
           }
          ],
          "heatmap": [
           {
            "colorbar": {
             "outlinewidth": 0,
             "ticks": ""
            },
            "colorscale": [
             [
              0,
              "#0d0887"
             ],
             [
              0.1111111111111111,
              "#46039f"
             ],
             [
              0.2222222222222222,
              "#7201a8"
             ],
             [
              0.3333333333333333,
              "#9c179e"
             ],
             [
              0.4444444444444444,
              "#bd3786"
             ],
             [
              0.5555555555555556,
              "#d8576b"
             ],
             [
              0.6666666666666666,
              "#ed7953"
             ],
             [
              0.7777777777777778,
              "#fb9f3a"
             ],
             [
              0.8888888888888888,
              "#fdca26"
             ],
             [
              1,
              "#f0f921"
             ]
            ],
            "type": "heatmap"
           }
          ],
          "heatmapgl": [
           {
            "colorbar": {
             "outlinewidth": 0,
             "ticks": ""
            },
            "colorscale": [
             [
              0,
              "#0d0887"
             ],
             [
              0.1111111111111111,
              "#46039f"
             ],
             [
              0.2222222222222222,
              "#7201a8"
             ],
             [
              0.3333333333333333,
              "#9c179e"
             ],
             [
              0.4444444444444444,
              "#bd3786"
             ],
             [
              0.5555555555555556,
              "#d8576b"
             ],
             [
              0.6666666666666666,
              "#ed7953"
             ],
             [
              0.7777777777777778,
              "#fb9f3a"
             ],
             [
              0.8888888888888888,
              "#fdca26"
             ],
             [
              1,
              "#f0f921"
             ]
            ],
            "type": "heatmapgl"
           }
          ],
          "histogram": [
           {
            "marker": {
             "pattern": {
              "fillmode": "overlay",
              "size": 10,
              "solidity": 0.2
             }
            },
            "type": "histogram"
           }
          ],
          "histogram2d": [
           {
            "colorbar": {
             "outlinewidth": 0,
             "ticks": ""
            },
            "colorscale": [
             [
              0,
              "#0d0887"
             ],
             [
              0.1111111111111111,
              "#46039f"
             ],
             [
              0.2222222222222222,
              "#7201a8"
             ],
             [
              0.3333333333333333,
              "#9c179e"
             ],
             [
              0.4444444444444444,
              "#bd3786"
             ],
             [
              0.5555555555555556,
              "#d8576b"
             ],
             [
              0.6666666666666666,
              "#ed7953"
             ],
             [
              0.7777777777777778,
              "#fb9f3a"
             ],
             [
              0.8888888888888888,
              "#fdca26"
             ],
             [
              1,
              "#f0f921"
             ]
            ],
            "type": "histogram2d"
           }
          ],
          "histogram2dcontour": [
           {
            "colorbar": {
             "outlinewidth": 0,
             "ticks": ""
            },
            "colorscale": [
             [
              0,
              "#0d0887"
             ],
             [
              0.1111111111111111,
              "#46039f"
             ],
             [
              0.2222222222222222,
              "#7201a8"
             ],
             [
              0.3333333333333333,
              "#9c179e"
             ],
             [
              0.4444444444444444,
              "#bd3786"
             ],
             [
              0.5555555555555556,
              "#d8576b"
             ],
             [
              0.6666666666666666,
              "#ed7953"
             ],
             [
              0.7777777777777778,
              "#fb9f3a"
             ],
             [
              0.8888888888888888,
              "#fdca26"
             ],
             [
              1,
              "#f0f921"
             ]
            ],
            "type": "histogram2dcontour"
           }
          ],
          "mesh3d": [
           {
            "colorbar": {
             "outlinewidth": 0,
             "ticks": ""
            },
            "type": "mesh3d"
           }
          ],
          "parcoords": [
           {
            "line": {
             "colorbar": {
              "outlinewidth": 0,
              "ticks": ""
             }
            },
            "type": "parcoords"
           }
          ],
          "pie": [
           {
            "automargin": true,
            "type": "pie"
           }
          ],
          "scatter": [
           {
            "fillpattern": {
             "fillmode": "overlay",
             "size": 10,
             "solidity": 0.2
            },
            "type": "scatter"
           }
          ],
          "scatter3d": [
           {
            "line": {
             "colorbar": {
              "outlinewidth": 0,
              "ticks": ""
             }
            },
            "marker": {
             "colorbar": {
              "outlinewidth": 0,
              "ticks": ""
             }
            },
            "type": "scatter3d"
           }
          ],
          "scattercarpet": [
           {
            "marker": {
             "colorbar": {
              "outlinewidth": 0,
              "ticks": ""
             }
            },
            "type": "scattercarpet"
           }
          ],
          "scattergeo": [
           {
            "marker": {
             "colorbar": {
              "outlinewidth": 0,
              "ticks": ""
             }
            },
            "type": "scattergeo"
           }
          ],
          "scattergl": [
           {
            "marker": {
             "colorbar": {
              "outlinewidth": 0,
              "ticks": ""
             }
            },
            "type": "scattergl"
           }
          ],
          "scattermapbox": [
           {
            "marker": {
             "colorbar": {
              "outlinewidth": 0,
              "ticks": ""
             }
            },
            "type": "scattermapbox"
           }
          ],
          "scatterpolar": [
           {
            "marker": {
             "colorbar": {
              "outlinewidth": 0,
              "ticks": ""
             }
            },
            "type": "scatterpolar"
           }
          ],
          "scatterpolargl": [
           {
            "marker": {
             "colorbar": {
              "outlinewidth": 0,
              "ticks": ""
             }
            },
            "type": "scatterpolargl"
           }
          ],
          "scatterternary": [
           {
            "marker": {
             "colorbar": {
              "outlinewidth": 0,
              "ticks": ""
             }
            },
            "type": "scatterternary"
           }
          ],
          "surface": [
           {
            "colorbar": {
             "outlinewidth": 0,
             "ticks": ""
            },
            "colorscale": [
             [
              0,
              "#0d0887"
             ],
             [
              0.1111111111111111,
              "#46039f"
             ],
             [
              0.2222222222222222,
              "#7201a8"
             ],
             [
              0.3333333333333333,
              "#9c179e"
             ],
             [
              0.4444444444444444,
              "#bd3786"
             ],
             [
              0.5555555555555556,
              "#d8576b"
             ],
             [
              0.6666666666666666,
              "#ed7953"
             ],
             [
              0.7777777777777778,
              "#fb9f3a"
             ],
             [
              0.8888888888888888,
              "#fdca26"
             ],
             [
              1,
              "#f0f921"
             ]
            ],
            "type": "surface"
           }
          ],
          "table": [
           {
            "cells": {
             "fill": {
              "color": "#EBF0F8"
             },
             "line": {
              "color": "white"
             }
            },
            "header": {
             "fill": {
              "color": "#C8D4E3"
             },
             "line": {
              "color": "white"
             }
            },
            "type": "table"
           }
          ]
         },
         "layout": {
          "annotationdefaults": {
           "arrowcolor": "#2a3f5f",
           "arrowhead": 0,
           "arrowwidth": 1
          },
          "autotypenumbers": "strict",
          "coloraxis": {
           "colorbar": {
            "outlinewidth": 0,
            "ticks": ""
           }
          },
          "colorscale": {
           "diverging": [
            [
             0,
             "#8e0152"
            ],
            [
             0.1,
             "#c51b7d"
            ],
            [
             0.2,
             "#de77ae"
            ],
            [
             0.3,
             "#f1b6da"
            ],
            [
             0.4,
             "#fde0ef"
            ],
            [
             0.5,
             "#f7f7f7"
            ],
            [
             0.6,
             "#e6f5d0"
            ],
            [
             0.7,
             "#b8e186"
            ],
            [
             0.8,
             "#7fbc41"
            ],
            [
             0.9,
             "#4d9221"
            ],
            [
             1,
             "#276419"
            ]
           ],
           "sequential": [
            [
             0,
             "#0d0887"
            ],
            [
             0.1111111111111111,
             "#46039f"
            ],
            [
             0.2222222222222222,
             "#7201a8"
            ],
            [
             0.3333333333333333,
             "#9c179e"
            ],
            [
             0.4444444444444444,
             "#bd3786"
            ],
            [
             0.5555555555555556,
             "#d8576b"
            ],
            [
             0.6666666666666666,
             "#ed7953"
            ],
            [
             0.7777777777777778,
             "#fb9f3a"
            ],
            [
             0.8888888888888888,
             "#fdca26"
            ],
            [
             1,
             "#f0f921"
            ]
           ],
           "sequentialminus": [
            [
             0,
             "#0d0887"
            ],
            [
             0.1111111111111111,
             "#46039f"
            ],
            [
             0.2222222222222222,
             "#7201a8"
            ],
            [
             0.3333333333333333,
             "#9c179e"
            ],
            [
             0.4444444444444444,
             "#bd3786"
            ],
            [
             0.5555555555555556,
             "#d8576b"
            ],
            [
             0.6666666666666666,
             "#ed7953"
            ],
            [
             0.7777777777777778,
             "#fb9f3a"
            ],
            [
             0.8888888888888888,
             "#fdca26"
            ],
            [
             1,
             "#f0f921"
            ]
           ]
          },
          "colorway": [
           "#636efa",
           "#EF553B",
           "#00cc96",
           "#ab63fa",
           "#FFA15A",
           "#19d3f3",
           "#FF6692",
           "#B6E880",
           "#FF97FF",
           "#FECB52"
          ],
          "font": {
           "color": "#2a3f5f"
          },
          "geo": {
           "bgcolor": "white",
           "lakecolor": "white",
           "landcolor": "#E5ECF6",
           "showlakes": true,
           "showland": true,
           "subunitcolor": "white"
          },
          "hoverlabel": {
           "align": "left"
          },
          "hovermode": "closest",
          "mapbox": {
           "style": "light"
          },
          "paper_bgcolor": "white",
          "plot_bgcolor": "#E5ECF6",
          "polar": {
           "angularaxis": {
            "gridcolor": "white",
            "linecolor": "white",
            "ticks": ""
           },
           "bgcolor": "#E5ECF6",
           "radialaxis": {
            "gridcolor": "white",
            "linecolor": "white",
            "ticks": ""
           }
          },
          "scene": {
           "xaxis": {
            "backgroundcolor": "#E5ECF6",
            "gridcolor": "white",
            "gridwidth": 2,
            "linecolor": "white",
            "showbackground": true,
            "ticks": "",
            "zerolinecolor": "white"
           },
           "yaxis": {
            "backgroundcolor": "#E5ECF6",
            "gridcolor": "white",
            "gridwidth": 2,
            "linecolor": "white",
            "showbackground": true,
            "ticks": "",
            "zerolinecolor": "white"
           },
           "zaxis": {
            "backgroundcolor": "#E5ECF6",
            "gridcolor": "white",
            "gridwidth": 2,
            "linecolor": "white",
            "showbackground": true,
            "ticks": "",
            "zerolinecolor": "white"
           }
          },
          "shapedefaults": {
           "line": {
            "color": "#2a3f5f"
           }
          },
          "ternary": {
           "aaxis": {
            "gridcolor": "white",
            "linecolor": "white",
            "ticks": ""
           },
           "baxis": {
            "gridcolor": "white",
            "linecolor": "white",
            "ticks": ""
           },
           "bgcolor": "#E5ECF6",
           "caxis": {
            "gridcolor": "white",
            "linecolor": "white",
            "ticks": ""
           }
          },
          "title": {
           "x": 0.05
          },
          "xaxis": {
           "automargin": true,
           "gridcolor": "white",
           "linecolor": "white",
           "ticks": "",
           "title": {
            "standoff": 15
           },
           "zerolinecolor": "white",
           "zerolinewidth": 2
          },
          "yaxis": {
           "automargin": true,
           "gridcolor": "white",
           "linecolor": "white",
           "ticks": "",
           "title": {
            "standoff": 15
           },
           "zerolinecolor": "white",
           "zerolinewidth": 2
          }
         }
        },
        "title": {
         "text": "Variação do loudness conforme os anos"
        },
        "xaxis": {
         "anchor": "y",
         "domain": [
          0,
          1
         ],
         "title": {
          "text": "year"
         }
        },
        "yaxis": {
         "anchor": "x",
         "domain": [
          0,
          1
         ],
         "title": {
          "text": "loudness"
         }
        }
       }
      }
     },
     "metadata": {},
     "output_type": "display_data"
    }
   ],
   "source": [
    "fig = px.line(dados_anos, x='year', y='loudness', markers=True, title='Variação do loudness conforme os anos')\n",
    "fig.show()"
   ]
  },
  {
   "cell_type": "code",
   "execution_count": 22,
   "metadata": {},
   "outputs": [],
   "source": [
    "import plotly.graph_objects as go"
   ]
  },
  {
   "cell_type": "code",
   "execution_count": 23,
   "metadata": {},
   "outputs": [
    {
     "data": {
      "application/vnd.plotly.v1+json": {
       "config": {
        "plotlyServerURL": "https://plot.ly"
       },
       "data": [
        {
         "name": "Acousticness",
         "type": "scatter",
         "x": [
          2000,
          2001,
          2002,
          2003,
          2004,
          2005,
          2006,
          2007,
          2008,
          2009,
          2010,
          2011,
          2012,
          2013,
          2014,
          2015,
          2016,
          2017,
          2018,
          2019,
          2020
         ],
         "y": [
          0.2893227005163599,
          0.2868424748428934,
          0.282624289885001,
          0.2564705181729783,
          0.2805589466225845,
          0.2557635068666665,
          0.2799863520256408,
          0.2540809575538463,
          0.2491917627212275,
          0.261928619096939,
          0.2426866435515872,
          0.2731826625185919,
          0.2499530443804624,
          0.2574880859564779,
          0.249312645880299,
          0.2539522577102332,
          0.2841710299554814,
          0.2860990665261043,
          0.2676329907750836,
          0.2782985863365824,
          0.2199308880935964
         ]
        },
        {
         "name": "Valence",
         "type": "scatter",
         "x": [
          2000,
          2001,
          2002,
          2003,
          2004,
          2005,
          2006,
          2007,
          2008,
          2009,
          2010,
          2011,
          2012,
          2013,
          2014,
          2015,
          2016,
          2017,
          2018,
          2019,
          2020
         ],
         "y": [
          0.5594754601226991,
          0.541479107231919,
          0.5423971500000008,
          0.5305042476970324,
          0.5244885554425227,
          0.5325309230769236,
          0.5200283076923078,
          0.5167938461538473,
          0.5275418925831203,
          0.5071696617346935,
          0.5208951587301589,
          0.4724536787307882,
          0.4627090128534706,
          0.4547411943319834,
          0.4630487780548628,
          0.4320983687943254,
          0.4315320589872012,
          0.4164763112449793,
          0.4479212743699474,
          0.4588176295536167,
          0.5010478078817729
         ]
        },
        {
         "name": "Energy",
         "type": "scatter",
         "x": [
          2000,
          2001,
          2002,
          2003,
          2004,
          2005,
          2006,
          2007,
          2008,
          2009,
          2010,
          2011,
          2012,
          2013,
          2014,
          2015,
          2016,
          2017,
          2018,
          2019,
          2020
         ],
         "y": [
          0.6254128323108387,
          0.6269855221945144,
          0.6412697960000012,
          0.6601652610030712,
          0.6488679450661226,
          0.653208511282051,
          0.6503262820512825,
          0.6683047743589737,
          0.6714608207672623,
          0.6707487551020408,
          0.6817778026289684,
          0.6483008934060499,
          0.6565714601542408,
          0.6455968914473688,
          0.6487954437905223,
          0.6270642715298895,
          0.5928552316082347,
          0.5904210208835337,
          0.6024346220161672,
          0.5932240360184717,
          0.6312316354679793
         ]
        },
        {
         "name": "Instrumentalness",
         "type": "scatter",
         "x": [
          2000,
          2001,
          2002,
          2003,
          2004,
          2005,
          2006,
          2007,
          2008,
          2009,
          2010,
          2011,
          2012,
          2013,
          2014,
          2015,
          2016,
          2017,
          2018,
          2019,
          2020
         ],
         "y": [
          0.1011677687934559,
          0.1072140189925186,
          0.0880483503149999,
          0.0830492746673491,
          0.0779340349084435,
          0.0901943611846154,
          0.0777014718769231,
          0.0729572680512819,
          0.0636620903171356,
          0.0758720736836735,
          0.0829805682192461,
          0.103772332166584,
          0.0852055206786631,
          0.0983650539170038,
          0.0765695548379051,
          0.1067868780547114,
          0.0939843871174179,
          0.0970906090662649,
          0.0542171216690441,
          0.0776402469728064,
          0.0163755243054187
         ]
        },
        {
         "name": "Liveness",
         "type": "scatter",
         "x": [
          2000,
          2001,
          2002,
          2003,
          2004,
          2005,
          2006,
          2007,
          2008,
          2009,
          2010,
          2011,
          2012,
          2013,
          2014,
          2015,
          2016,
          2017,
          2018,
          2019,
          2020
         ],
         "y": [
          0.1976860429447853,
          0.1870256359102248,
          0.1939111999999998,
          0.196976305015353,
          0.2021994404883014,
          0.1900816256410258,
          0.1882892820512821,
          0.1961265641025642,
          0.1984314066496162,
          0.2052522959183674,
          0.1997006448412699,
          0.2033088249876056,
          0.1897330077120824,
          0.1996308198380571,
          0.1918215960099752,
          0.1888564336372847,
          0.181169894268225,
          0.1917126004016064,
          0.1763255349500711,
          0.1726164186762446,
          0.1785354187192117
         ]
        },
        {
         "name": "Speechiness",
         "type": "scatter",
         "x": [
          2000,
          2001,
          2002,
          2003,
          2004,
          2005,
          2006,
          2007,
          2008,
          2009,
          2010,
          2011,
          2012,
          2013,
          2014,
          2015,
          2016,
          2017,
          2018,
          2019,
          2020
         ],
         "y": [
          0.0892054192229039,
          0.0891822942643391,
          0.0843075999999999,
          0.0939257420675538,
          0.0942388097660224,
          0.093333692307692,
          0.0858467692307692,
          0.0843473333333333,
          0.077356368286445,
          0.0854578061224489,
          0.0810314980158731,
          0.087479276152702,
          0.081742467866324,
          0.0938488866396761,
          0.0840605486284289,
          0.0967792299898684,
          0.1043132999443518,
          0.1105364959839356,
          0.1271755587256302,
          0.1210433555669573,
          0.1413836945812805
         ]
        }
       ],
       "layout": {
        "template": {
         "data": {
          "bar": [
           {
            "error_x": {
             "color": "#2a3f5f"
            },
            "error_y": {
             "color": "#2a3f5f"
            },
            "marker": {
             "line": {
              "color": "#E5ECF6",
              "width": 0.5
             },
             "pattern": {
              "fillmode": "overlay",
              "size": 10,
              "solidity": 0.2
             }
            },
            "type": "bar"
           }
          ],
          "barpolar": [
           {
            "marker": {
             "line": {
              "color": "#E5ECF6",
              "width": 0.5
             },
             "pattern": {
              "fillmode": "overlay",
              "size": 10,
              "solidity": 0.2
             }
            },
            "type": "barpolar"
           }
          ],
          "carpet": [
           {
            "aaxis": {
             "endlinecolor": "#2a3f5f",
             "gridcolor": "white",
             "linecolor": "white",
             "minorgridcolor": "white",
             "startlinecolor": "#2a3f5f"
            },
            "baxis": {
             "endlinecolor": "#2a3f5f",
             "gridcolor": "white",
             "linecolor": "white",
             "minorgridcolor": "white",
             "startlinecolor": "#2a3f5f"
            },
            "type": "carpet"
           }
          ],
          "choropleth": [
           {
            "colorbar": {
             "outlinewidth": 0,
             "ticks": ""
            },
            "type": "choropleth"
           }
          ],
          "contour": [
           {
            "colorbar": {
             "outlinewidth": 0,
             "ticks": ""
            },
            "colorscale": [
             [
              0,
              "#0d0887"
             ],
             [
              0.1111111111111111,
              "#46039f"
             ],
             [
              0.2222222222222222,
              "#7201a8"
             ],
             [
              0.3333333333333333,
              "#9c179e"
             ],
             [
              0.4444444444444444,
              "#bd3786"
             ],
             [
              0.5555555555555556,
              "#d8576b"
             ],
             [
              0.6666666666666666,
              "#ed7953"
             ],
             [
              0.7777777777777778,
              "#fb9f3a"
             ],
             [
              0.8888888888888888,
              "#fdca26"
             ],
             [
              1,
              "#f0f921"
             ]
            ],
            "type": "contour"
           }
          ],
          "contourcarpet": [
           {
            "colorbar": {
             "outlinewidth": 0,
             "ticks": ""
            },
            "type": "contourcarpet"
           }
          ],
          "heatmap": [
           {
            "colorbar": {
             "outlinewidth": 0,
             "ticks": ""
            },
            "colorscale": [
             [
              0,
              "#0d0887"
             ],
             [
              0.1111111111111111,
              "#46039f"
             ],
             [
              0.2222222222222222,
              "#7201a8"
             ],
             [
              0.3333333333333333,
              "#9c179e"
             ],
             [
              0.4444444444444444,
              "#bd3786"
             ],
             [
              0.5555555555555556,
              "#d8576b"
             ],
             [
              0.6666666666666666,
              "#ed7953"
             ],
             [
              0.7777777777777778,
              "#fb9f3a"
             ],
             [
              0.8888888888888888,
              "#fdca26"
             ],
             [
              1,
              "#f0f921"
             ]
            ],
            "type": "heatmap"
           }
          ],
          "heatmapgl": [
           {
            "colorbar": {
             "outlinewidth": 0,
             "ticks": ""
            },
            "colorscale": [
             [
              0,
              "#0d0887"
             ],
             [
              0.1111111111111111,
              "#46039f"
             ],
             [
              0.2222222222222222,
              "#7201a8"
             ],
             [
              0.3333333333333333,
              "#9c179e"
             ],
             [
              0.4444444444444444,
              "#bd3786"
             ],
             [
              0.5555555555555556,
              "#d8576b"
             ],
             [
              0.6666666666666666,
              "#ed7953"
             ],
             [
              0.7777777777777778,
              "#fb9f3a"
             ],
             [
              0.8888888888888888,
              "#fdca26"
             ],
             [
              1,
              "#f0f921"
             ]
            ],
            "type": "heatmapgl"
           }
          ],
          "histogram": [
           {
            "marker": {
             "pattern": {
              "fillmode": "overlay",
              "size": 10,
              "solidity": 0.2
             }
            },
            "type": "histogram"
           }
          ],
          "histogram2d": [
           {
            "colorbar": {
             "outlinewidth": 0,
             "ticks": ""
            },
            "colorscale": [
             [
              0,
              "#0d0887"
             ],
             [
              0.1111111111111111,
              "#46039f"
             ],
             [
              0.2222222222222222,
              "#7201a8"
             ],
             [
              0.3333333333333333,
              "#9c179e"
             ],
             [
              0.4444444444444444,
              "#bd3786"
             ],
             [
              0.5555555555555556,
              "#d8576b"
             ],
             [
              0.6666666666666666,
              "#ed7953"
             ],
             [
              0.7777777777777778,
              "#fb9f3a"
             ],
             [
              0.8888888888888888,
              "#fdca26"
             ],
             [
              1,
              "#f0f921"
             ]
            ],
            "type": "histogram2d"
           }
          ],
          "histogram2dcontour": [
           {
            "colorbar": {
             "outlinewidth": 0,
             "ticks": ""
            },
            "colorscale": [
             [
              0,
              "#0d0887"
             ],
             [
              0.1111111111111111,
              "#46039f"
             ],
             [
              0.2222222222222222,
              "#7201a8"
             ],
             [
              0.3333333333333333,
              "#9c179e"
             ],
             [
              0.4444444444444444,
              "#bd3786"
             ],
             [
              0.5555555555555556,
              "#d8576b"
             ],
             [
              0.6666666666666666,
              "#ed7953"
             ],
             [
              0.7777777777777778,
              "#fb9f3a"
             ],
             [
              0.8888888888888888,
              "#fdca26"
             ],
             [
              1,
              "#f0f921"
             ]
            ],
            "type": "histogram2dcontour"
           }
          ],
          "mesh3d": [
           {
            "colorbar": {
             "outlinewidth": 0,
             "ticks": ""
            },
            "type": "mesh3d"
           }
          ],
          "parcoords": [
           {
            "line": {
             "colorbar": {
              "outlinewidth": 0,
              "ticks": ""
             }
            },
            "type": "parcoords"
           }
          ],
          "pie": [
           {
            "automargin": true,
            "type": "pie"
           }
          ],
          "scatter": [
           {
            "fillpattern": {
             "fillmode": "overlay",
             "size": 10,
             "solidity": 0.2
            },
            "type": "scatter"
           }
          ],
          "scatter3d": [
           {
            "line": {
             "colorbar": {
              "outlinewidth": 0,
              "ticks": ""
             }
            },
            "marker": {
             "colorbar": {
              "outlinewidth": 0,
              "ticks": ""
             }
            },
            "type": "scatter3d"
           }
          ],
          "scattercarpet": [
           {
            "marker": {
             "colorbar": {
              "outlinewidth": 0,
              "ticks": ""
             }
            },
            "type": "scattercarpet"
           }
          ],
          "scattergeo": [
           {
            "marker": {
             "colorbar": {
              "outlinewidth": 0,
              "ticks": ""
             }
            },
            "type": "scattergeo"
           }
          ],
          "scattergl": [
           {
            "marker": {
             "colorbar": {
              "outlinewidth": 0,
              "ticks": ""
             }
            },
            "type": "scattergl"
           }
          ],
          "scattermapbox": [
           {
            "marker": {
             "colorbar": {
              "outlinewidth": 0,
              "ticks": ""
             }
            },
            "type": "scattermapbox"
           }
          ],
          "scatterpolar": [
           {
            "marker": {
             "colorbar": {
              "outlinewidth": 0,
              "ticks": ""
             }
            },
            "type": "scatterpolar"
           }
          ],
          "scatterpolargl": [
           {
            "marker": {
             "colorbar": {
              "outlinewidth": 0,
              "ticks": ""
             }
            },
            "type": "scatterpolargl"
           }
          ],
          "scatterternary": [
           {
            "marker": {
             "colorbar": {
              "outlinewidth": 0,
              "ticks": ""
             }
            },
            "type": "scatterternary"
           }
          ],
          "surface": [
           {
            "colorbar": {
             "outlinewidth": 0,
             "ticks": ""
            },
            "colorscale": [
             [
              0,
              "#0d0887"
             ],
             [
              0.1111111111111111,
              "#46039f"
             ],
             [
              0.2222222222222222,
              "#7201a8"
             ],
             [
              0.3333333333333333,
              "#9c179e"
             ],
             [
              0.4444444444444444,
              "#bd3786"
             ],
             [
              0.5555555555555556,
              "#d8576b"
             ],
             [
              0.6666666666666666,
              "#ed7953"
             ],
             [
              0.7777777777777778,
              "#fb9f3a"
             ],
             [
              0.8888888888888888,
              "#fdca26"
             ],
             [
              1,
              "#f0f921"
             ]
            ],
            "type": "surface"
           }
          ],
          "table": [
           {
            "cells": {
             "fill": {
              "color": "#EBF0F8"
             },
             "line": {
              "color": "white"
             }
            },
            "header": {
             "fill": {
              "color": "#C8D4E3"
             },
             "line": {
              "color": "white"
             }
            },
            "type": "table"
           }
          ]
         },
         "layout": {
          "annotationdefaults": {
           "arrowcolor": "#2a3f5f",
           "arrowhead": 0,
           "arrowwidth": 1
          },
          "autotypenumbers": "strict",
          "coloraxis": {
           "colorbar": {
            "outlinewidth": 0,
            "ticks": ""
           }
          },
          "colorscale": {
           "diverging": [
            [
             0,
             "#8e0152"
            ],
            [
             0.1,
             "#c51b7d"
            ],
            [
             0.2,
             "#de77ae"
            ],
            [
             0.3,
             "#f1b6da"
            ],
            [
             0.4,
             "#fde0ef"
            ],
            [
             0.5,
             "#f7f7f7"
            ],
            [
             0.6,
             "#e6f5d0"
            ],
            [
             0.7,
             "#b8e186"
            ],
            [
             0.8,
             "#7fbc41"
            ],
            [
             0.9,
             "#4d9221"
            ],
            [
             1,
             "#276419"
            ]
           ],
           "sequential": [
            [
             0,
             "#0d0887"
            ],
            [
             0.1111111111111111,
             "#46039f"
            ],
            [
             0.2222222222222222,
             "#7201a8"
            ],
            [
             0.3333333333333333,
             "#9c179e"
            ],
            [
             0.4444444444444444,
             "#bd3786"
            ],
            [
             0.5555555555555556,
             "#d8576b"
            ],
            [
             0.6666666666666666,
             "#ed7953"
            ],
            [
             0.7777777777777778,
             "#fb9f3a"
            ],
            [
             0.8888888888888888,
             "#fdca26"
            ],
            [
             1,
             "#f0f921"
            ]
           ],
           "sequentialminus": [
            [
             0,
             "#0d0887"
            ],
            [
             0.1111111111111111,
             "#46039f"
            ],
            [
             0.2222222222222222,
             "#7201a8"
            ],
            [
             0.3333333333333333,
             "#9c179e"
            ],
            [
             0.4444444444444444,
             "#bd3786"
            ],
            [
             0.5555555555555556,
             "#d8576b"
            ],
            [
             0.6666666666666666,
             "#ed7953"
            ],
            [
             0.7777777777777778,
             "#fb9f3a"
            ],
            [
             0.8888888888888888,
             "#fdca26"
            ],
            [
             1,
             "#f0f921"
            ]
           ]
          },
          "colorway": [
           "#636efa",
           "#EF553B",
           "#00cc96",
           "#ab63fa",
           "#FFA15A",
           "#19d3f3",
           "#FF6692",
           "#B6E880",
           "#FF97FF",
           "#FECB52"
          ],
          "font": {
           "color": "#2a3f5f"
          },
          "geo": {
           "bgcolor": "white",
           "lakecolor": "white",
           "landcolor": "#E5ECF6",
           "showlakes": true,
           "showland": true,
           "subunitcolor": "white"
          },
          "hoverlabel": {
           "align": "left"
          },
          "hovermode": "closest",
          "mapbox": {
           "style": "light"
          },
          "paper_bgcolor": "white",
          "plot_bgcolor": "#E5ECF6",
          "polar": {
           "angularaxis": {
            "gridcolor": "white",
            "linecolor": "white",
            "ticks": ""
           },
           "bgcolor": "#E5ECF6",
           "radialaxis": {
            "gridcolor": "white",
            "linecolor": "white",
            "ticks": ""
           }
          },
          "scene": {
           "xaxis": {
            "backgroundcolor": "#E5ECF6",
            "gridcolor": "white",
            "gridwidth": 2,
            "linecolor": "white",
            "showbackground": true,
            "ticks": "",
            "zerolinecolor": "white"
           },
           "yaxis": {
            "backgroundcolor": "#E5ECF6",
            "gridcolor": "white",
            "gridwidth": 2,
            "linecolor": "white",
            "showbackground": true,
            "ticks": "",
            "zerolinecolor": "white"
           },
           "zaxis": {
            "backgroundcolor": "#E5ECF6",
            "gridcolor": "white",
            "gridwidth": 2,
            "linecolor": "white",
            "showbackground": true,
            "ticks": "",
            "zerolinecolor": "white"
           }
          },
          "shapedefaults": {
           "line": {
            "color": "#2a3f5f"
           }
          },
          "ternary": {
           "aaxis": {
            "gridcolor": "white",
            "linecolor": "white",
            "ticks": ""
           },
           "baxis": {
            "gridcolor": "white",
            "linecolor": "white",
            "ticks": ""
           },
           "bgcolor": "#E5ECF6",
           "caxis": {
            "gridcolor": "white",
            "linecolor": "white",
            "ticks": ""
           }
          },
          "title": {
           "x": 0.05
          },
          "xaxis": {
           "automargin": true,
           "gridcolor": "white",
           "linecolor": "white",
           "ticks": "",
           "title": {
            "standoff": 15
           },
           "zerolinecolor": "white",
           "zerolinewidth": 2
          },
          "yaxis": {
           "automargin": true,
           "gridcolor": "white",
           "linecolor": "white",
           "ticks": "",
           "title": {
            "standoff": 15
           },
           "zerolinecolor": "white",
           "zerolinewidth": 2
          }
         }
        }
       }
      }
     },
     "metadata": {},
     "output_type": "display_data"
    }
   ],
   "source": [
    "fig = go.Figure()\n",
    "\n",
    "fig.add_trace(go.Scatter(x=dados_anos['year'], y=dados_anos['acousticness'], name='Acousticness'))\n",
    "fig.add_trace(go.Scatter(x=dados_anos['year'], y=dados_anos['valence'], name='Valence'))\n",
    "fig.add_trace(go.Scatter(x=dados_anos['year'], y=dados_anos['energy'], name='Energy'))\n",
    "fig.add_trace(go.Scatter(x=dados_anos['year'], y=dados_anos['instrumentalness'], name='Instrumentalness'))\n",
    "fig.add_trace(go.Scatter(x=dados_anos['year'], y=dados_anos['liveness'], name='Liveness'))\n",
    "fig.add_trace(go.Scatter(x=dados_anos['year'], y=dados_anos['speechiness'], name='Speechiness'))\n",
    "fig.show()"
   ]
  },
  {
   "cell_type": "code",
   "execution_count": 25,
   "metadata": {},
   "outputs": [
    {
     "name": "stderr",
     "output_type": "stream",
     "text": [
      "C:\\Users\\Fabiano\\AppData\\Local\\Temp\\ipykernel_7708\\366216162.py:3: FutureWarning:\n",
      "\n",
      "The default value of numeric_only in DataFrame.corr is deprecated. In a future version, it will default to False. Select only valid columns or specify the value of numeric_only to silence this warning.\n",
      "\n"
     ]
    },
    {
     "data": {
      "application/vnd.plotly.v1+json": {
       "config": {
        "plotlyServerURL": "https://plot.ly"
       },
       "data": [
        {
         "coloraxis": "coloraxis",
         "hovertemplate": "x: %{x}<br>y: %{y}<br>color: %{z}<extra></extra>",
         "name": "0",
         "texttemplate": "%{z}",
         "type": "heatmap",
         "x": [
          "valence",
          "year",
          "acousticness",
          "danceability",
          "duration_ms",
          "energy",
          "explicit",
          "instrumentalness",
          "key",
          "liveness",
          "loudness",
          "mode",
          "popularity",
          "speechiness",
          "tempo"
         ],
         "xaxis": "x",
         "y": [
          "valence",
          "year",
          "acousticness",
          "danceability",
          "duration_ms",
          "energy",
          "explicit",
          "instrumentalness",
          "key",
          "liveness",
          "loudness",
          "mode",
          "popularity",
          "speechiness",
          "tempo"
         ],
         "yaxis": "y",
         "z": [
          [
           1,
           -0.11152818996552269,
           -0.17906507578880113,
           0.4706016928505381,
           -0.19255117869290994,
           0.35029199798428345,
           -0.027824874087998927,
           -0.2557841048653347,
           0.06281245032404886,
           0.02221366049722543,
           0.3378977669900986,
           0.015555146133181826,
           -0.02666406634639214,
           0.08252614933102408,
           0.07315334866798318
          ],
          [
           -0.11152818996552269,
           1,
           -0.011224012558530316,
           0.17440028973064198,
           -0.14627395555186518,
           -0.06995658525945365,
           0.26509941121357034,
           -0.13203456252176587,
           -0.01944499757131028,
           -0.04295002368784964,
           0.052483197651396335,
           -0.0690334038967836,
           0.5520537744643068,
           0.12405143773766447,
           0.02311722172289499
          ],
          [
           -0.17906507578880113,
           -0.011224012558530316,
           1,
           -0.1758942916516538,
           -0.05596681465486787,
           -0.7091107964699702,
           -0.14287176272525517,
           0.29973973152822125,
           -0.01686378572398173,
           -0.09844289738151028,
           -0.6036127005064934,
           0.076879305073684,
           -0.03187901141421101,
           -0.12082482277726948,
           -0.15474122793050457
          ],
          [
           0.4706016928505381,
           0.17440028973064198,
           -0.1758942916516538,
           1,
           -0.15971497774585897,
           0.08735820678113757,
           0.3031334027037274,
           -0.3142998559030547,
           0.02603104266908273,
           -0.0696597044523255,
           0.2679343205070181,
           -0.0559200547370902,
           0.1809607849711362,
           0.2267015756782655,
           -0.09486499562608043
          ],
          [
           -0.19255117869290994,
           -0.14627395555186518,
           -0.05596681465486787,
           -0.15971497774585897,
           1,
           0.014565108670534132,
           -0.03298856045464522,
           0.07164598789913075,
           -0.0027495730984489247,
           0.052743206410793615,
           -0.017003038059048684,
           -0.033742535772245986,
           -0.10932110003241752,
           -0.02851359221465405,
           -0.028602148844984
          ],
          [
           0.35029199798428345,
           -0.06995658525945365,
           -0.7091107964699702,
           0.08735820678113757,
           0.014565108670534132,
           1,
           0.06185142723400491,
           -0.3164682501295295,
           0.044070169030344435,
           0.17387777376175623,
           0.7595724242928918,
           -0.07458866852363223,
           -0.028459539491050623,
           0.11401773090551177,
           0.1916455676981815
          ],
          [
           -0.027824874087998927,
           0.26509941121357034,
           -0.14287176272525517,
           0.3031334027037274,
           -0.03298856045464522,
           0.06185142723400491,
           1,
           -0.14879095593881106,
           0.00925788994212269,
           0.07141446390258067,
           0.10538949673379602,
           -0.13850750184421012,
           0.17616171939174385,
           0.519254158603517,
           -0.012507062229162836
          ],
          [
           -0.2557841048653347,
           -0.13203456252176587,
           0.29973973152822125,
           -0.3142998559030547,
           0.07164598789913075,
           -0.3164682501295295,
           -0.14879095593881106,
           1,
           -0.03315312406799346,
           -0.06234712806061889,
           -0.5588938236531733,
           -0.00021090649767173687,
           -0.12504620012490858,
           -0.1371187140191706,
           -0.09444020881622293
          ],
          [
           0.06281245032404886,
           -0.01944499757131028,
           -0.01686378572398173,
           0.02603104266908273,
           -0.0027495730984489247,
           0.044070169030344435,
           0.00925788994212269,
           -0.03315312406799346,
           1,
           0.005800522438098611,
           0.044712176750229,
           -0.14243902115228319,
           -0.01233055098855189,
           0.029999171984878576,
           0.005961752004297125
          ],
          [
           0.02221366049722543,
           -0.04295002368784964,
           -0.09844289738151028,
           -0.0696597044523255,
           0.052743206410793615,
           0.17387777376175623,
           0.07141446390258067,
           -0.06234712806061889,
           0.005800522438098611,
           1,
           0.09144172661855732,
           -0.02812945133039315,
           -0.06860593075406679,
           0.11955070410710385,
           0.014857567069808593
          ],
          [
           0.3378977669900986,
           0.052483197651396335,
           -0.6036127005064934,
           0.2679343205070181,
           -0.017003038059048684,
           0.7595724242928918,
           0.10538949673379602,
           -0.5588938236531733,
           0.044712176750229,
           0.09144172661855732,
           1,
           -0.038459421455076206,
           0.09292468076617552,
           0.07902873344113712,
           0.18045939002871472
          ],
          [
           0.015555146133181826,
           -0.0690334038967836,
           0.076879305073684,
           -0.0559200547370902,
           -0.033742535772245986,
           -0.07458866852363223,
           -0.13850750184421012,
           -0.00021090649767173687,
           -0.14243902115228319,
           -0.02812945133039315,
           -0.038459421455076206,
           1,
           -0.06883722709635655,
           -0.128783228492587,
           0.01765318853449248
          ],
          [
           -0.02666406634639214,
           0.5520537744643068,
           -0.03187901141421101,
           0.1809607849711362,
           -0.10932110003241752,
           -0.028459539491050623,
           0.17616171939174385,
           -0.12504620012490858,
           -0.01233055098855189,
           -0.06860593075406679,
           0.09292468076617552,
           -0.06883722709635655,
           1,
           0.057125553208252515,
           -0.00033755419876421543
          ],
          [
           0.08252614933102408,
           0.12405143773766447,
           -0.12082482277726948,
           0.2267015756782655,
           -0.02851359221465405,
           0.11401773090551177,
           0.519254158603517,
           -0.1371187140191706,
           0.029999171984878576,
           0.11955070410710385,
           0.07902873344113712,
           -0.128783228492587,
           0.057125553208252515,
           1,
           0.04062153175888837
          ],
          [
           0.07315334866798318,
           0.02311722172289499,
           -0.15474122793050457,
           -0.09486499562608043,
           -0.028602148844984,
           0.1916455676981815,
           -0.012507062229162836,
           -0.09444020881622293,
           0.005961752004297125,
           0.014857567069808593,
           0.18045939002871472,
           0.01765318853449248,
           -0.00033755419876421543,
           0.04062153175888837,
           1
          ]
         ]
        }
       ],
       "layout": {
        "coloraxis": {
         "colorscale": [
          [
           0,
           "#0d0887"
          ],
          [
           0.1111111111111111,
           "#46039f"
          ],
          [
           0.2222222222222222,
           "#7201a8"
          ],
          [
           0.3333333333333333,
           "#9c179e"
          ],
          [
           0.4444444444444444,
           "#bd3786"
          ],
          [
           0.5555555555555556,
           "#d8576b"
          ],
          [
           0.6666666666666666,
           "#ed7953"
          ],
          [
           0.7777777777777778,
           "#fb9f3a"
          ],
          [
           0.8888888888888888,
           "#fdca26"
          ],
          [
           1,
           "#f0f921"
          ]
         ]
        },
        "margin": {
         "t": 60
        },
        "template": {
         "data": {
          "bar": [
           {
            "error_x": {
             "color": "#2a3f5f"
            },
            "error_y": {
             "color": "#2a3f5f"
            },
            "marker": {
             "line": {
              "color": "#E5ECF6",
              "width": 0.5
             },
             "pattern": {
              "fillmode": "overlay",
              "size": 10,
              "solidity": 0.2
             }
            },
            "type": "bar"
           }
          ],
          "barpolar": [
           {
            "marker": {
             "line": {
              "color": "#E5ECF6",
              "width": 0.5
             },
             "pattern": {
              "fillmode": "overlay",
              "size": 10,
              "solidity": 0.2
             }
            },
            "type": "barpolar"
           }
          ],
          "carpet": [
           {
            "aaxis": {
             "endlinecolor": "#2a3f5f",
             "gridcolor": "white",
             "linecolor": "white",
             "minorgridcolor": "white",
             "startlinecolor": "#2a3f5f"
            },
            "baxis": {
             "endlinecolor": "#2a3f5f",
             "gridcolor": "white",
             "linecolor": "white",
             "minorgridcolor": "white",
             "startlinecolor": "#2a3f5f"
            },
            "type": "carpet"
           }
          ],
          "choropleth": [
           {
            "colorbar": {
             "outlinewidth": 0,
             "ticks": ""
            },
            "type": "choropleth"
           }
          ],
          "contour": [
           {
            "colorbar": {
             "outlinewidth": 0,
             "ticks": ""
            },
            "colorscale": [
             [
              0,
              "#0d0887"
             ],
             [
              0.1111111111111111,
              "#46039f"
             ],
             [
              0.2222222222222222,
              "#7201a8"
             ],
             [
              0.3333333333333333,
              "#9c179e"
             ],
             [
              0.4444444444444444,
              "#bd3786"
             ],
             [
              0.5555555555555556,
              "#d8576b"
             ],
             [
              0.6666666666666666,
              "#ed7953"
             ],
             [
              0.7777777777777778,
              "#fb9f3a"
             ],
             [
              0.8888888888888888,
              "#fdca26"
             ],
             [
              1,
              "#f0f921"
             ]
            ],
            "type": "contour"
           }
          ],
          "contourcarpet": [
           {
            "colorbar": {
             "outlinewidth": 0,
             "ticks": ""
            },
            "type": "contourcarpet"
           }
          ],
          "heatmap": [
           {
            "colorbar": {
             "outlinewidth": 0,
             "ticks": ""
            },
            "colorscale": [
             [
              0,
              "#0d0887"
             ],
             [
              0.1111111111111111,
              "#46039f"
             ],
             [
              0.2222222222222222,
              "#7201a8"
             ],
             [
              0.3333333333333333,
              "#9c179e"
             ],
             [
              0.4444444444444444,
              "#bd3786"
             ],
             [
              0.5555555555555556,
              "#d8576b"
             ],
             [
              0.6666666666666666,
              "#ed7953"
             ],
             [
              0.7777777777777778,
              "#fb9f3a"
             ],
             [
              0.8888888888888888,
              "#fdca26"
             ],
             [
              1,
              "#f0f921"
             ]
            ],
            "type": "heatmap"
           }
          ],
          "heatmapgl": [
           {
            "colorbar": {
             "outlinewidth": 0,
             "ticks": ""
            },
            "colorscale": [
             [
              0,
              "#0d0887"
             ],
             [
              0.1111111111111111,
              "#46039f"
             ],
             [
              0.2222222222222222,
              "#7201a8"
             ],
             [
              0.3333333333333333,
              "#9c179e"
             ],
             [
              0.4444444444444444,
              "#bd3786"
             ],
             [
              0.5555555555555556,
              "#d8576b"
             ],
             [
              0.6666666666666666,
              "#ed7953"
             ],
             [
              0.7777777777777778,
              "#fb9f3a"
             ],
             [
              0.8888888888888888,
              "#fdca26"
             ],
             [
              1,
              "#f0f921"
             ]
            ],
            "type": "heatmapgl"
           }
          ],
          "histogram": [
           {
            "marker": {
             "pattern": {
              "fillmode": "overlay",
              "size": 10,
              "solidity": 0.2
             }
            },
            "type": "histogram"
           }
          ],
          "histogram2d": [
           {
            "colorbar": {
             "outlinewidth": 0,
             "ticks": ""
            },
            "colorscale": [
             [
              0,
              "#0d0887"
             ],
             [
              0.1111111111111111,
              "#46039f"
             ],
             [
              0.2222222222222222,
              "#7201a8"
             ],
             [
              0.3333333333333333,
              "#9c179e"
             ],
             [
              0.4444444444444444,
              "#bd3786"
             ],
             [
              0.5555555555555556,
              "#d8576b"
             ],
             [
              0.6666666666666666,
              "#ed7953"
             ],
             [
              0.7777777777777778,
              "#fb9f3a"
             ],
             [
              0.8888888888888888,
              "#fdca26"
             ],
             [
              1,
              "#f0f921"
             ]
            ],
            "type": "histogram2d"
           }
          ],
          "histogram2dcontour": [
           {
            "colorbar": {
             "outlinewidth": 0,
             "ticks": ""
            },
            "colorscale": [
             [
              0,
              "#0d0887"
             ],
             [
              0.1111111111111111,
              "#46039f"
             ],
             [
              0.2222222222222222,
              "#7201a8"
             ],
             [
              0.3333333333333333,
              "#9c179e"
             ],
             [
              0.4444444444444444,
              "#bd3786"
             ],
             [
              0.5555555555555556,
              "#d8576b"
             ],
             [
              0.6666666666666666,
              "#ed7953"
             ],
             [
              0.7777777777777778,
              "#fb9f3a"
             ],
             [
              0.8888888888888888,
              "#fdca26"
             ],
             [
              1,
              "#f0f921"
             ]
            ],
            "type": "histogram2dcontour"
           }
          ],
          "mesh3d": [
           {
            "colorbar": {
             "outlinewidth": 0,
             "ticks": ""
            },
            "type": "mesh3d"
           }
          ],
          "parcoords": [
           {
            "line": {
             "colorbar": {
              "outlinewidth": 0,
              "ticks": ""
             }
            },
            "type": "parcoords"
           }
          ],
          "pie": [
           {
            "automargin": true,
            "type": "pie"
           }
          ],
          "scatter": [
           {
            "fillpattern": {
             "fillmode": "overlay",
             "size": 10,
             "solidity": 0.2
            },
            "type": "scatter"
           }
          ],
          "scatter3d": [
           {
            "line": {
             "colorbar": {
              "outlinewidth": 0,
              "ticks": ""
             }
            },
            "marker": {
             "colorbar": {
              "outlinewidth": 0,
              "ticks": ""
             }
            },
            "type": "scatter3d"
           }
          ],
          "scattercarpet": [
           {
            "marker": {
             "colorbar": {
              "outlinewidth": 0,
              "ticks": ""
             }
            },
            "type": "scattercarpet"
           }
          ],
          "scattergeo": [
           {
            "marker": {
             "colorbar": {
              "outlinewidth": 0,
              "ticks": ""
             }
            },
            "type": "scattergeo"
           }
          ],
          "scattergl": [
           {
            "marker": {
             "colorbar": {
              "outlinewidth": 0,
              "ticks": ""
             }
            },
            "type": "scattergl"
           }
          ],
          "scattermapbox": [
           {
            "marker": {
             "colorbar": {
              "outlinewidth": 0,
              "ticks": ""
             }
            },
            "type": "scattermapbox"
           }
          ],
          "scatterpolar": [
           {
            "marker": {
             "colorbar": {
              "outlinewidth": 0,
              "ticks": ""
             }
            },
            "type": "scatterpolar"
           }
          ],
          "scatterpolargl": [
           {
            "marker": {
             "colorbar": {
              "outlinewidth": 0,
              "ticks": ""
             }
            },
            "type": "scatterpolargl"
           }
          ],
          "scatterternary": [
           {
            "marker": {
             "colorbar": {
              "outlinewidth": 0,
              "ticks": ""
             }
            },
            "type": "scatterternary"
           }
          ],
          "surface": [
           {
            "colorbar": {
             "outlinewidth": 0,
             "ticks": ""
            },
            "colorscale": [
             [
              0,
              "#0d0887"
             ],
             [
              0.1111111111111111,
              "#46039f"
             ],
             [
              0.2222222222222222,
              "#7201a8"
             ],
             [
              0.3333333333333333,
              "#9c179e"
             ],
             [
              0.4444444444444444,
              "#bd3786"
             ],
             [
              0.5555555555555556,
              "#d8576b"
             ],
             [
              0.6666666666666666,
              "#ed7953"
             ],
             [
              0.7777777777777778,
              "#fb9f3a"
             ],
             [
              0.8888888888888888,
              "#fdca26"
             ],
             [
              1,
              "#f0f921"
             ]
            ],
            "type": "surface"
           }
          ],
          "table": [
           {
            "cells": {
             "fill": {
              "color": "#EBF0F8"
             },
             "line": {
              "color": "white"
             }
            },
            "header": {
             "fill": {
              "color": "#C8D4E3"
             },
             "line": {
              "color": "white"
             }
            },
            "type": "table"
           }
          ]
         },
         "layout": {
          "annotationdefaults": {
           "arrowcolor": "#2a3f5f",
           "arrowhead": 0,
           "arrowwidth": 1
          },
          "autotypenumbers": "strict",
          "coloraxis": {
           "colorbar": {
            "outlinewidth": 0,
            "ticks": ""
           }
          },
          "colorscale": {
           "diverging": [
            [
             0,
             "#8e0152"
            ],
            [
             0.1,
             "#c51b7d"
            ],
            [
             0.2,
             "#de77ae"
            ],
            [
             0.3,
             "#f1b6da"
            ],
            [
             0.4,
             "#fde0ef"
            ],
            [
             0.5,
             "#f7f7f7"
            ],
            [
             0.6,
             "#e6f5d0"
            ],
            [
             0.7,
             "#b8e186"
            ],
            [
             0.8,
             "#7fbc41"
            ],
            [
             0.9,
             "#4d9221"
            ],
            [
             1,
             "#276419"
            ]
           ],
           "sequential": [
            [
             0,
             "#0d0887"
            ],
            [
             0.1111111111111111,
             "#46039f"
            ],
            [
             0.2222222222222222,
             "#7201a8"
            ],
            [
             0.3333333333333333,
             "#9c179e"
            ],
            [
             0.4444444444444444,
             "#bd3786"
            ],
            [
             0.5555555555555556,
             "#d8576b"
            ],
            [
             0.6666666666666666,
             "#ed7953"
            ],
            [
             0.7777777777777778,
             "#fb9f3a"
            ],
            [
             0.8888888888888888,
             "#fdca26"
            ],
            [
             1,
             "#f0f921"
            ]
           ],
           "sequentialminus": [
            [
             0,
             "#0d0887"
            ],
            [
             0.1111111111111111,
             "#46039f"
            ],
            [
             0.2222222222222222,
             "#7201a8"
            ],
            [
             0.3333333333333333,
             "#9c179e"
            ],
            [
             0.4444444444444444,
             "#bd3786"
            ],
            [
             0.5555555555555556,
             "#d8576b"
            ],
            [
             0.6666666666666666,
             "#ed7953"
            ],
            [
             0.7777777777777778,
             "#fb9f3a"
            ],
            [
             0.8888888888888888,
             "#fdca26"
            ],
            [
             1,
             "#f0f921"
            ]
           ]
          },
          "colorway": [
           "#636efa",
           "#EF553B",
           "#00cc96",
           "#ab63fa",
           "#FFA15A",
           "#19d3f3",
           "#FF6692",
           "#B6E880",
           "#FF97FF",
           "#FECB52"
          ],
          "font": {
           "color": "#2a3f5f"
          },
          "geo": {
           "bgcolor": "white",
           "lakecolor": "white",
           "landcolor": "#E5ECF6",
           "showlakes": true,
           "showland": true,
           "subunitcolor": "white"
          },
          "hoverlabel": {
           "align": "left"
          },
          "hovermode": "closest",
          "mapbox": {
           "style": "light"
          },
          "paper_bgcolor": "white",
          "plot_bgcolor": "#E5ECF6",
          "polar": {
           "angularaxis": {
            "gridcolor": "white",
            "linecolor": "white",
            "ticks": ""
           },
           "bgcolor": "#E5ECF6",
           "radialaxis": {
            "gridcolor": "white",
            "linecolor": "white",
            "ticks": ""
           }
          },
          "scene": {
           "xaxis": {
            "backgroundcolor": "#E5ECF6",
            "gridcolor": "white",
            "gridwidth": 2,
            "linecolor": "white",
            "showbackground": true,
            "ticks": "",
            "zerolinecolor": "white"
           },
           "yaxis": {
            "backgroundcolor": "#E5ECF6",
            "gridcolor": "white",
            "gridwidth": 2,
            "linecolor": "white",
            "showbackground": true,
            "ticks": "",
            "zerolinecolor": "white"
           },
           "zaxis": {
            "backgroundcolor": "#E5ECF6",
            "gridcolor": "white",
            "gridwidth": 2,
            "linecolor": "white",
            "showbackground": true,
            "ticks": "",
            "zerolinecolor": "white"
           }
          },
          "shapedefaults": {
           "line": {
            "color": "#2a3f5f"
           }
          },
          "ternary": {
           "aaxis": {
            "gridcolor": "white",
            "linecolor": "white",
            "ticks": ""
           },
           "baxis": {
            "gridcolor": "white",
            "linecolor": "white",
            "ticks": ""
           },
           "bgcolor": "#E5ECF6",
           "caxis": {
            "gridcolor": "white",
            "linecolor": "white",
            "ticks": ""
           }
          },
          "title": {
           "x": 0.05
          },
          "xaxis": {
           "automargin": true,
           "gridcolor": "white",
           "linecolor": "white",
           "ticks": "",
           "title": {
            "standoff": 15
           },
           "zerolinecolor": "white",
           "zerolinewidth": 2
          },
          "yaxis": {
           "automargin": true,
           "gridcolor": "white",
           "linecolor": "white",
           "ticks": "",
           "title": {
            "standoff": 15
           },
           "zerolinecolor": "white",
           "zerolinewidth": 2
          }
         }
        },
        "xaxis": {
         "anchor": "y",
         "constrain": "domain",
         "domain": [
          0,
          1
         ],
         "scaleanchor": "y"
        },
        "yaxis": {
         "anchor": "x",
         "autorange": "reversed",
         "constrain": "domain",
         "domain": [
          0,
          1
         ]
        }
       }
      }
     },
     "metadata": {},
     "output_type": "display_data"
    }
   ],
   "source": [
    "# Verificando a correação entre as variáveis\n",
    "\n",
    "fig = px.imshow(dados.corr(), text_auto=True)\n",
    "fig.show()"
   ]
  },
  {
   "cell_type": "markdown",
   "metadata": {},
   "source": [
    "# Clusterização por gênero"
   ]
  },
  {
   "cell_type": "markdown",
   "metadata": {},
   "source": [
    "## PCA e StandardScaler"
   ]
  },
  {
   "cell_type": "code",
   "execution_count": 26,
   "metadata": {},
   "outputs": [
    {
     "data": {
      "text/html": [
       "<div>\n",
       "<style scoped>\n",
       "    .dataframe tbody tr th:only-of-type {\n",
       "        vertical-align: middle;\n",
       "    }\n",
       "\n",
       "    .dataframe tbody tr th {\n",
       "        vertical-align: top;\n",
       "    }\n",
       "\n",
       "    .dataframe thead th {\n",
       "        text-align: right;\n",
       "    }\n",
       "</style>\n",
       "<table border=\"1\" class=\"dataframe\">\n",
       "  <thead>\n",
       "    <tr style=\"text-align: right;\">\n",
       "      <th></th>\n",
       "      <th>genres</th>\n",
       "      <th>acousticness</th>\n",
       "      <th>danceability</th>\n",
       "      <th>duration_ms</th>\n",
       "      <th>energy</th>\n",
       "      <th>instrumentalness</th>\n",
       "      <th>liveness</th>\n",
       "      <th>loudness</th>\n",
       "      <th>speechiness</th>\n",
       "      <th>tempo</th>\n",
       "      <th>valence</th>\n",
       "      <th>popularity</th>\n",
       "    </tr>\n",
       "  </thead>\n",
       "  <tbody>\n",
       "    <tr>\n",
       "      <th>0</th>\n",
       "      <td>21st century classical</td>\n",
       "      <td>0.979333</td>\n",
       "      <td>0.162883</td>\n",
       "      <td>1.602977e+05</td>\n",
       "      <td>0.071317</td>\n",
       "      <td>0.606834</td>\n",
       "      <td>0.361600</td>\n",
       "      <td>-31.514333</td>\n",
       "      <td>0.040567</td>\n",
       "      <td>75.336500</td>\n",
       "      <td>0.103783</td>\n",
       "      <td>27.833333</td>\n",
       "    </tr>\n",
       "    <tr>\n",
       "      <th>1</th>\n",
       "      <td>432hz</td>\n",
       "      <td>0.494780</td>\n",
       "      <td>0.299333</td>\n",
       "      <td>1.048887e+06</td>\n",
       "      <td>0.450678</td>\n",
       "      <td>0.477762</td>\n",
       "      <td>0.131000</td>\n",
       "      <td>-16.854000</td>\n",
       "      <td>0.076817</td>\n",
       "      <td>120.285667</td>\n",
       "      <td>0.221750</td>\n",
       "      <td>52.500000</td>\n",
       "    </tr>\n",
       "    <tr>\n",
       "      <th>2</th>\n",
       "      <td>8-bit</td>\n",
       "      <td>0.762000</td>\n",
       "      <td>0.712000</td>\n",
       "      <td>1.151770e+05</td>\n",
       "      <td>0.818000</td>\n",
       "      <td>0.876000</td>\n",
       "      <td>0.126000</td>\n",
       "      <td>-9.180000</td>\n",
       "      <td>0.047000</td>\n",
       "      <td>133.444000</td>\n",
       "      <td>0.975000</td>\n",
       "      <td>48.000000</td>\n",
       "    </tr>\n",
       "    <tr>\n",
       "      <th>3</th>\n",
       "      <td>[]</td>\n",
       "      <td>0.651417</td>\n",
       "      <td>0.529093</td>\n",
       "      <td>2.328809e+05</td>\n",
       "      <td>0.419146</td>\n",
       "      <td>0.205309</td>\n",
       "      <td>0.218696</td>\n",
       "      <td>-12.288965</td>\n",
       "      <td>0.107872</td>\n",
       "      <td>112.857352</td>\n",
       "      <td>0.513604</td>\n",
       "      <td>20.859882</td>\n",
       "    </tr>\n",
       "    <tr>\n",
       "      <th>4</th>\n",
       "      <td>a cappella</td>\n",
       "      <td>0.676557</td>\n",
       "      <td>0.538961</td>\n",
       "      <td>1.906285e+05</td>\n",
       "      <td>0.316434</td>\n",
       "      <td>0.003003</td>\n",
       "      <td>0.172254</td>\n",
       "      <td>-12.479387</td>\n",
       "      <td>0.082851</td>\n",
       "      <td>112.110362</td>\n",
       "      <td>0.448249</td>\n",
       "      <td>45.820071</td>\n",
       "    </tr>\n",
       "    <tr>\n",
       "      <th>...</th>\n",
       "      <td>...</td>\n",
       "      <td>...</td>\n",
       "      <td>...</td>\n",
       "      <td>...</td>\n",
       "      <td>...</td>\n",
       "      <td>...</td>\n",
       "      <td>...</td>\n",
       "      <td>...</td>\n",
       "      <td>...</td>\n",
       "      <td>...</td>\n",
       "      <td>...</td>\n",
       "      <td>...</td>\n",
       "    </tr>\n",
       "    <tr>\n",
       "      <th>2968</th>\n",
       "      <td>zolo</td>\n",
       "      <td>0.222625</td>\n",
       "      <td>0.547082</td>\n",
       "      <td>2.580991e+05</td>\n",
       "      <td>0.610240</td>\n",
       "      <td>0.143872</td>\n",
       "      <td>0.204206</td>\n",
       "      <td>-11.295878</td>\n",
       "      <td>0.061088</td>\n",
       "      <td>125.494919</td>\n",
       "      <td>0.596155</td>\n",
       "      <td>33.778943</td>\n",
       "    </tr>\n",
       "    <tr>\n",
       "      <th>2969</th>\n",
       "      <td>zouglou</td>\n",
       "      <td>0.161000</td>\n",
       "      <td>0.863000</td>\n",
       "      <td>2.063200e+05</td>\n",
       "      <td>0.909000</td>\n",
       "      <td>0.000000</td>\n",
       "      <td>0.108000</td>\n",
       "      <td>-5.985000</td>\n",
       "      <td>0.081300</td>\n",
       "      <td>119.038000</td>\n",
       "      <td>0.845000</td>\n",
       "      <td>58.000000</td>\n",
       "    </tr>\n",
       "    <tr>\n",
       "      <th>2970</th>\n",
       "      <td>zouk</td>\n",
       "      <td>0.263261</td>\n",
       "      <td>0.748889</td>\n",
       "      <td>3.060728e+05</td>\n",
       "      <td>0.622444</td>\n",
       "      <td>0.257227</td>\n",
       "      <td>0.089678</td>\n",
       "      <td>-10.289222</td>\n",
       "      <td>0.038778</td>\n",
       "      <td>101.965222</td>\n",
       "      <td>0.824111</td>\n",
       "      <td>46.666667</td>\n",
       "    </tr>\n",
       "    <tr>\n",
       "      <th>2971</th>\n",
       "      <td>zurich indie</td>\n",
       "      <td>0.993000</td>\n",
       "      <td>0.705667</td>\n",
       "      <td>1.984173e+05</td>\n",
       "      <td>0.172667</td>\n",
       "      <td>0.468633</td>\n",
       "      <td>0.179667</td>\n",
       "      <td>-11.453333</td>\n",
       "      <td>0.348667</td>\n",
       "      <td>91.278000</td>\n",
       "      <td>0.739000</td>\n",
       "      <td>0.000000</td>\n",
       "    </tr>\n",
       "    <tr>\n",
       "      <th>2972</th>\n",
       "      <td>zydeco</td>\n",
       "      <td>0.421038</td>\n",
       "      <td>0.629409</td>\n",
       "      <td>1.716717e+05</td>\n",
       "      <td>0.609369</td>\n",
       "      <td>0.019248</td>\n",
       "      <td>0.255877</td>\n",
       "      <td>-9.854825</td>\n",
       "      <td>0.050491</td>\n",
       "      <td>126.366087</td>\n",
       "      <td>0.808544</td>\n",
       "      <td>30.261905</td>\n",
       "    </tr>\n",
       "  </tbody>\n",
       "</table>\n",
       "<p>2973 rows × 12 columns</p>\n",
       "</div>"
      ],
      "text/plain": [
       "                      genres  acousticness  danceability   duration_ms  \\\n",
       "0     21st century classical      0.979333      0.162883  1.602977e+05   \n",
       "1                      432hz      0.494780      0.299333  1.048887e+06   \n",
       "2                      8-bit      0.762000      0.712000  1.151770e+05   \n",
       "3                         []      0.651417      0.529093  2.328809e+05   \n",
       "4                 a cappella      0.676557      0.538961  1.906285e+05   \n",
       "...                      ...           ...           ...           ...   \n",
       "2968                    zolo      0.222625      0.547082  2.580991e+05   \n",
       "2969                 zouglou      0.161000      0.863000  2.063200e+05   \n",
       "2970                    zouk      0.263261      0.748889  3.060728e+05   \n",
       "2971            zurich indie      0.993000      0.705667  1.984173e+05   \n",
       "2972                  zydeco      0.421038      0.629409  1.716717e+05   \n",
       "\n",
       "        energy  instrumentalness  liveness   loudness  speechiness  \\\n",
       "0     0.071317          0.606834  0.361600 -31.514333     0.040567   \n",
       "1     0.450678          0.477762  0.131000 -16.854000     0.076817   \n",
       "2     0.818000          0.876000  0.126000  -9.180000     0.047000   \n",
       "3     0.419146          0.205309  0.218696 -12.288965     0.107872   \n",
       "4     0.316434          0.003003  0.172254 -12.479387     0.082851   \n",
       "...        ...               ...       ...        ...          ...   \n",
       "2968  0.610240          0.143872  0.204206 -11.295878     0.061088   \n",
       "2969  0.909000          0.000000  0.108000  -5.985000     0.081300   \n",
       "2970  0.622444          0.257227  0.089678 -10.289222     0.038778   \n",
       "2971  0.172667          0.468633  0.179667 -11.453333     0.348667   \n",
       "2972  0.609369          0.019248  0.255877  -9.854825     0.050491   \n",
       "\n",
       "           tempo   valence  popularity  \n",
       "0      75.336500  0.103783   27.833333  \n",
       "1     120.285667  0.221750   52.500000  \n",
       "2     133.444000  0.975000   48.000000  \n",
       "3     112.857352  0.513604   20.859882  \n",
       "4     112.110362  0.448249   45.820071  \n",
       "...          ...       ...         ...  \n",
       "2968  125.494919  0.596155   33.778943  \n",
       "2969  119.038000  0.845000   58.000000  \n",
       "2970  101.965222  0.824111   46.666667  \n",
       "2971   91.278000  0.739000    0.000000  \n",
       "2972  126.366087  0.808544   30.261905  \n",
       "\n",
       "[2973 rows x 12 columns]"
      ]
     },
     "execution_count": 26,
     "metadata": {},
     "output_type": "execute_result"
    }
   ],
   "source": [
    "dados_generos"
   ]
  },
  {
   "cell_type": "code",
   "execution_count": 28,
   "metadata": {},
   "outputs": [
    {
     "data": {
      "text/plain": [
       "2973"
      ]
     },
     "execution_count": 28,
     "metadata": {},
     "output_type": "execute_result"
    }
   ],
   "source": [
    "# Verificando se cada linha é um gênero\n",
    "\n",
    "dados_generos['genres'].value_counts().sum()\n",
    "\n",
    "# Dado que cada linha possui um valor único, não é possível realizar alguma análise, em complemento,\n",
    "# os algoritmos de clusterização trabalham apenas com valores numéricos uma solução possível é dumificar\n",
    "# as variáveis, no entando, isso seria um problema pois aumentaria a dimensionalidade dos dados em 2973 colunas,\n",
    "# portanto a solução neste momento é a exclusão desta coluna.  "
   ]
  },
  {
   "cell_type": "code",
   "execution_count": 29,
   "metadata": {},
   "outputs": [
    {
     "data": {
      "text/html": [
       "<div>\n",
       "<style scoped>\n",
       "    .dataframe tbody tr th:only-of-type {\n",
       "        vertical-align: middle;\n",
       "    }\n",
       "\n",
       "    .dataframe tbody tr th {\n",
       "        vertical-align: top;\n",
       "    }\n",
       "\n",
       "    .dataframe thead th {\n",
       "        text-align: right;\n",
       "    }\n",
       "</style>\n",
       "<table border=\"1\" class=\"dataframe\">\n",
       "  <thead>\n",
       "    <tr style=\"text-align: right;\">\n",
       "      <th></th>\n",
       "      <th>acousticness</th>\n",
       "      <th>danceability</th>\n",
       "      <th>duration_ms</th>\n",
       "      <th>energy</th>\n",
       "      <th>instrumentalness</th>\n",
       "      <th>liveness</th>\n",
       "      <th>loudness</th>\n",
       "      <th>speechiness</th>\n",
       "      <th>tempo</th>\n",
       "      <th>valence</th>\n",
       "      <th>popularity</th>\n",
       "    </tr>\n",
       "  </thead>\n",
       "  <tbody>\n",
       "    <tr>\n",
       "      <th>0</th>\n",
       "      <td>0.979333</td>\n",
       "      <td>0.162883</td>\n",
       "      <td>1.602977e+05</td>\n",
       "      <td>0.071317</td>\n",
       "      <td>0.606834</td>\n",
       "      <td>0.361600</td>\n",
       "      <td>-31.514333</td>\n",
       "      <td>0.040567</td>\n",
       "      <td>75.336500</td>\n",
       "      <td>0.103783</td>\n",
       "      <td>27.833333</td>\n",
       "    </tr>\n",
       "    <tr>\n",
       "      <th>1</th>\n",
       "      <td>0.494780</td>\n",
       "      <td>0.299333</td>\n",
       "      <td>1.048887e+06</td>\n",
       "      <td>0.450678</td>\n",
       "      <td>0.477762</td>\n",
       "      <td>0.131000</td>\n",
       "      <td>-16.854000</td>\n",
       "      <td>0.076817</td>\n",
       "      <td>120.285667</td>\n",
       "      <td>0.221750</td>\n",
       "      <td>52.500000</td>\n",
       "    </tr>\n",
       "    <tr>\n",
       "      <th>2</th>\n",
       "      <td>0.762000</td>\n",
       "      <td>0.712000</td>\n",
       "      <td>1.151770e+05</td>\n",
       "      <td>0.818000</td>\n",
       "      <td>0.876000</td>\n",
       "      <td>0.126000</td>\n",
       "      <td>-9.180000</td>\n",
       "      <td>0.047000</td>\n",
       "      <td>133.444000</td>\n",
       "      <td>0.975000</td>\n",
       "      <td>48.000000</td>\n",
       "    </tr>\n",
       "    <tr>\n",
       "      <th>3</th>\n",
       "      <td>0.651417</td>\n",
       "      <td>0.529093</td>\n",
       "      <td>2.328809e+05</td>\n",
       "      <td>0.419146</td>\n",
       "      <td>0.205309</td>\n",
       "      <td>0.218696</td>\n",
       "      <td>-12.288965</td>\n",
       "      <td>0.107872</td>\n",
       "      <td>112.857352</td>\n",
       "      <td>0.513604</td>\n",
       "      <td>20.859882</td>\n",
       "    </tr>\n",
       "    <tr>\n",
       "      <th>4</th>\n",
       "      <td>0.676557</td>\n",
       "      <td>0.538961</td>\n",
       "      <td>1.906285e+05</td>\n",
       "      <td>0.316434</td>\n",
       "      <td>0.003003</td>\n",
       "      <td>0.172254</td>\n",
       "      <td>-12.479387</td>\n",
       "      <td>0.082851</td>\n",
       "      <td>112.110362</td>\n",
       "      <td>0.448249</td>\n",
       "      <td>45.820071</td>\n",
       "    </tr>\n",
       "    <tr>\n",
       "      <th>...</th>\n",
       "      <td>...</td>\n",
       "      <td>...</td>\n",
       "      <td>...</td>\n",
       "      <td>...</td>\n",
       "      <td>...</td>\n",
       "      <td>...</td>\n",
       "      <td>...</td>\n",
       "      <td>...</td>\n",
       "      <td>...</td>\n",
       "      <td>...</td>\n",
       "      <td>...</td>\n",
       "    </tr>\n",
       "    <tr>\n",
       "      <th>2968</th>\n",
       "      <td>0.222625</td>\n",
       "      <td>0.547082</td>\n",
       "      <td>2.580991e+05</td>\n",
       "      <td>0.610240</td>\n",
       "      <td>0.143872</td>\n",
       "      <td>0.204206</td>\n",
       "      <td>-11.295878</td>\n",
       "      <td>0.061088</td>\n",
       "      <td>125.494919</td>\n",
       "      <td>0.596155</td>\n",
       "      <td>33.778943</td>\n",
       "    </tr>\n",
       "    <tr>\n",
       "      <th>2969</th>\n",
       "      <td>0.161000</td>\n",
       "      <td>0.863000</td>\n",
       "      <td>2.063200e+05</td>\n",
       "      <td>0.909000</td>\n",
       "      <td>0.000000</td>\n",
       "      <td>0.108000</td>\n",
       "      <td>-5.985000</td>\n",
       "      <td>0.081300</td>\n",
       "      <td>119.038000</td>\n",
       "      <td>0.845000</td>\n",
       "      <td>58.000000</td>\n",
       "    </tr>\n",
       "    <tr>\n",
       "      <th>2970</th>\n",
       "      <td>0.263261</td>\n",
       "      <td>0.748889</td>\n",
       "      <td>3.060728e+05</td>\n",
       "      <td>0.622444</td>\n",
       "      <td>0.257227</td>\n",
       "      <td>0.089678</td>\n",
       "      <td>-10.289222</td>\n",
       "      <td>0.038778</td>\n",
       "      <td>101.965222</td>\n",
       "      <td>0.824111</td>\n",
       "      <td>46.666667</td>\n",
       "    </tr>\n",
       "    <tr>\n",
       "      <th>2971</th>\n",
       "      <td>0.993000</td>\n",
       "      <td>0.705667</td>\n",
       "      <td>1.984173e+05</td>\n",
       "      <td>0.172667</td>\n",
       "      <td>0.468633</td>\n",
       "      <td>0.179667</td>\n",
       "      <td>-11.453333</td>\n",
       "      <td>0.348667</td>\n",
       "      <td>91.278000</td>\n",
       "      <td>0.739000</td>\n",
       "      <td>0.000000</td>\n",
       "    </tr>\n",
       "    <tr>\n",
       "      <th>2972</th>\n",
       "      <td>0.421038</td>\n",
       "      <td>0.629409</td>\n",
       "      <td>1.716717e+05</td>\n",
       "      <td>0.609369</td>\n",
       "      <td>0.019248</td>\n",
       "      <td>0.255877</td>\n",
       "      <td>-9.854825</td>\n",
       "      <td>0.050491</td>\n",
       "      <td>126.366087</td>\n",
       "      <td>0.808544</td>\n",
       "      <td>30.261905</td>\n",
       "    </tr>\n",
       "  </tbody>\n",
       "</table>\n",
       "<p>2973 rows × 11 columns</p>\n",
       "</div>"
      ],
      "text/plain": [
       "      acousticness  danceability   duration_ms    energy  instrumentalness  \\\n",
       "0         0.979333      0.162883  1.602977e+05  0.071317          0.606834   \n",
       "1         0.494780      0.299333  1.048887e+06  0.450678          0.477762   \n",
       "2         0.762000      0.712000  1.151770e+05  0.818000          0.876000   \n",
       "3         0.651417      0.529093  2.328809e+05  0.419146          0.205309   \n",
       "4         0.676557      0.538961  1.906285e+05  0.316434          0.003003   \n",
       "...            ...           ...           ...       ...               ...   \n",
       "2968      0.222625      0.547082  2.580991e+05  0.610240          0.143872   \n",
       "2969      0.161000      0.863000  2.063200e+05  0.909000          0.000000   \n",
       "2970      0.263261      0.748889  3.060728e+05  0.622444          0.257227   \n",
       "2971      0.993000      0.705667  1.984173e+05  0.172667          0.468633   \n",
       "2972      0.421038      0.629409  1.716717e+05  0.609369          0.019248   \n",
       "\n",
       "      liveness   loudness  speechiness       tempo   valence  popularity  \n",
       "0     0.361600 -31.514333     0.040567   75.336500  0.103783   27.833333  \n",
       "1     0.131000 -16.854000     0.076817  120.285667  0.221750   52.500000  \n",
       "2     0.126000  -9.180000     0.047000  133.444000  0.975000   48.000000  \n",
       "3     0.218696 -12.288965     0.107872  112.857352  0.513604   20.859882  \n",
       "4     0.172254 -12.479387     0.082851  112.110362  0.448249   45.820071  \n",
       "...        ...        ...          ...         ...       ...         ...  \n",
       "2968  0.204206 -11.295878     0.061088  125.494919  0.596155   33.778943  \n",
       "2969  0.108000  -5.985000     0.081300  119.038000  0.845000   58.000000  \n",
       "2970  0.089678 -10.289222     0.038778  101.965222  0.824111   46.666667  \n",
       "2971  0.179667 -11.453333     0.348667   91.278000  0.739000    0.000000  \n",
       "2972  0.255877  -9.854825     0.050491  126.366087  0.808544   30.261905  \n",
       "\n",
       "[2973 rows x 11 columns]"
      ]
     },
     "execution_count": 29,
     "metadata": {},
     "output_type": "execute_result"
    }
   ],
   "source": [
    "dados_generos1 = dados_generos.drop('genres', axis=1)\n",
    "dados_generos1"
   ]
  },
  {
   "cell_type": "code",
   "execution_count": 30,
   "metadata": {},
   "outputs": [],
   "source": [
    "from sklearn.pipeline import Pipeline\n",
    "from sklearn.preprocessing import StandardScaler\n",
    "from sklearn.decomposition import PCA"
   ]
  },
  {
   "cell_type": "code",
   "execution_count": 31,
   "metadata": {},
   "outputs": [],
   "source": [
    "SEED = 1224\n",
    "np.random.seed(SEED)\n",
    "\n",
    "pca_pipeline = Pipeline([('scaler', StandardScaler()), ('PCA', PCA(n_components=2, random_state=SEED))])"
   ]
  },
  {
   "cell_type": "code",
   "execution_count": 32,
   "metadata": {},
   "outputs": [],
   "source": [
    "genre_embedding_pca = pca_pipeline.fit_transform(dados_generos1)\n",
    "projection = pd.DataFrame(columns=['x', 'y'], data=genre_embedding_pca)"
   ]
  },
  {
   "cell_type": "code",
   "execution_count": 33,
   "metadata": {},
   "outputs": [
    {
     "data": {
      "text/html": [
       "<div>\n",
       "<style scoped>\n",
       "    .dataframe tbody tr th:only-of-type {\n",
       "        vertical-align: middle;\n",
       "    }\n",
       "\n",
       "    .dataframe tbody tr th {\n",
       "        vertical-align: top;\n",
       "    }\n",
       "\n",
       "    .dataframe thead th {\n",
       "        text-align: right;\n",
       "    }\n",
       "</style>\n",
       "<table border=\"1\" class=\"dataframe\">\n",
       "  <thead>\n",
       "    <tr style=\"text-align: right;\">\n",
       "      <th></th>\n",
       "      <th>x</th>\n",
       "      <th>y</th>\n",
       "    </tr>\n",
       "  </thead>\n",
       "  <tbody>\n",
       "    <tr>\n",
       "      <th>0</th>\n",
       "      <td>5.910268</td>\n",
       "      <td>-0.011146</td>\n",
       "    </tr>\n",
       "    <tr>\n",
       "      <th>1</th>\n",
       "      <td>2.787093</td>\n",
       "      <td>4.498483</td>\n",
       "    </tr>\n",
       "    <tr>\n",
       "      <th>2</th>\n",
       "      <td>-0.757538</td>\n",
       "      <td>-1.258495</td>\n",
       "    </tr>\n",
       "    <tr>\n",
       "      <th>3</th>\n",
       "      <td>1.020521</td>\n",
       "      <td>-0.931690</td>\n",
       "    </tr>\n",
       "    <tr>\n",
       "      <th>4</th>\n",
       "      <td>0.753911</td>\n",
       "      <td>-0.999861</td>\n",
       "    </tr>\n",
       "    <tr>\n",
       "      <th>...</th>\n",
       "      <td>...</td>\n",
       "      <td>...</td>\n",
       "    </tr>\n",
       "    <tr>\n",
       "      <th>2968</th>\n",
       "      <td>-0.475136</td>\n",
       "      <td>-0.017126</td>\n",
       "    </tr>\n",
       "    <tr>\n",
       "      <th>2969</th>\n",
       "      <td>-3.026756</td>\n",
       "      <td>-1.304983</td>\n",
       "    </tr>\n",
       "    <tr>\n",
       "      <th>2970</th>\n",
       "      <td>-0.832511</td>\n",
       "      <td>-1.089726</td>\n",
       "    </tr>\n",
       "    <tr>\n",
       "      <th>2971</th>\n",
       "      <td>1.774790</td>\n",
       "      <td>-3.695233</td>\n",
       "    </tr>\n",
       "    <tr>\n",
       "      <th>2972</th>\n",
       "      <td>-1.028069</td>\n",
       "      <td>-1.390709</td>\n",
       "    </tr>\n",
       "  </tbody>\n",
       "</table>\n",
       "<p>2973 rows × 2 columns</p>\n",
       "</div>"
      ],
      "text/plain": [
       "             x         y\n",
       "0     5.910268 -0.011146\n",
       "1     2.787093  4.498483\n",
       "2    -0.757538 -1.258495\n",
       "3     1.020521 -0.931690\n",
       "4     0.753911 -0.999861\n",
       "...        ...       ...\n",
       "2968 -0.475136 -0.017126\n",
       "2969 -3.026756 -1.304983\n",
       "2970 -0.832511 -1.089726\n",
       "2971  1.774790 -3.695233\n",
       "2972 -1.028069 -1.390709\n",
       "\n",
       "[2973 rows x 2 columns]"
      ]
     },
     "execution_count": 33,
     "metadata": {},
     "output_type": "execute_result"
    }
   ],
   "source": [
    "projection"
   ]
  },
  {
   "cell_type": "code",
   "execution_count": null,
   "metadata": {},
   "outputs": [],
   "source": []
  },
  {
   "cell_type": "code",
   "execution_count": null,
   "metadata": {},
   "outputs": [],
   "source": []
  },
  {
   "cell_type": "code",
   "execution_count": null,
   "metadata": {},
   "outputs": [],
   "source": []
  }
 ],
 "metadata": {
  "kernelspec": {
   "display_name": "Python 3.9.6 64-bit",
   "language": "python",
   "name": "python3"
  },
  "language_info": {
   "codemirror_mode": {
    "name": "ipython",
    "version": 3
   },
   "file_extension": ".py",
   "mimetype": "text/x-python",
   "name": "python",
   "nbconvert_exporter": "python",
   "pygments_lexer": "ipython3",
   "version": "3.9.6"
  },
  "orig_nbformat": 4,
  "vscode": {
   "interpreter": {
    "hash": "81794d4967e6c3204c66dcd87b604927b115b27c00565d3d43f05ba2f3a2cb0d"
   }
  }
 },
 "nbformat": 4,
 "nbformat_minor": 2
}
