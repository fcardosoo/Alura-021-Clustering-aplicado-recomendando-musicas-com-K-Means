{
 "cells": [
  {
   "cell_type": "markdown",
   "metadata": {},
   "source": [
    "## Recomendador de Músicas"
   ]
  },
  {
   "cell_type": "code",
   "execution_count": 1,
   "metadata": {},
   "outputs": [],
   "source": [
    "import pandas as pd\n",
    "import numpy as np"
   ]
  },
  {
   "cell_type": "code",
   "execution_count": 2,
   "metadata": {},
   "outputs": [],
   "source": [
    "dados = pd.read_csv('Dados/Dados_totais.csv')\n",
    "dados_generos = pd.read_csv('Dados/data_by_genres.csv')\n",
    "dados_anos = pd.read_csv('Dados/data_by_year.csv')"
   ]
  },
  {
   "cell_type": "code",
   "execution_count": 3,
   "metadata": {},
   "outputs": [
    {
     "data": {
      "text/html": [
       "<div>\n",
       "<style scoped>\n",
       "    .dataframe tbody tr th:only-of-type {\n",
       "        vertical-align: middle;\n",
       "    }\n",
       "\n",
       "    .dataframe tbody tr th {\n",
       "        vertical-align: top;\n",
       "    }\n",
       "\n",
       "    .dataframe thead th {\n",
       "        text-align: right;\n",
       "    }\n",
       "</style>\n",
       "<table border=\"1\" class=\"dataframe\">\n",
       "  <thead>\n",
       "    <tr style=\"text-align: right;\">\n",
       "      <th></th>\n",
       "      <th>valence</th>\n",
       "      <th>year</th>\n",
       "      <th>acousticness</th>\n",
       "      <th>artists</th>\n",
       "      <th>danceability</th>\n",
       "      <th>duration_ms</th>\n",
       "      <th>energy</th>\n",
       "      <th>explicit</th>\n",
       "      <th>id</th>\n",
       "      <th>instrumentalness</th>\n",
       "      <th>key</th>\n",
       "      <th>liveness</th>\n",
       "      <th>loudness</th>\n",
       "      <th>mode</th>\n",
       "      <th>name</th>\n",
       "      <th>popularity</th>\n",
       "      <th>speechiness</th>\n",
       "      <th>tempo</th>\n",
       "      <th>artists_song</th>\n",
       "    </tr>\n",
       "  </thead>\n",
       "  <tbody>\n",
       "    <tr>\n",
       "      <th>0</th>\n",
       "      <td>0.285</td>\n",
       "      <td>2000</td>\n",
       "      <td>0.00239</td>\n",
       "      <td>Coldplay</td>\n",
       "      <td>0.429</td>\n",
       "      <td>266773</td>\n",
       "      <td>0.661</td>\n",
       "      <td>0</td>\n",
       "      <td>3AJwUDP919kvQ9QcozQPxg</td>\n",
       "      <td>0.000121</td>\n",
       "      <td>11</td>\n",
       "      <td>0.2340</td>\n",
       "      <td>-7.227</td>\n",
       "      <td>1</td>\n",
       "      <td>Yellow</td>\n",
       "      <td>84</td>\n",
       "      <td>0.0281</td>\n",
       "      <td>173.372</td>\n",
       "      <td>Coldplay - Yellow</td>\n",
       "    </tr>\n",
       "    <tr>\n",
       "      <th>1</th>\n",
       "      <td>0.613</td>\n",
       "      <td>2000</td>\n",
       "      <td>0.14300</td>\n",
       "      <td>OutKast</td>\n",
       "      <td>0.843</td>\n",
       "      <td>270507</td>\n",
       "      <td>0.806</td>\n",
       "      <td>1</td>\n",
       "      <td>0I3q5fE6wg7LIfHGngUTnV</td>\n",
       "      <td>0.000000</td>\n",
       "      <td>4</td>\n",
       "      <td>0.0771</td>\n",
       "      <td>-5.946</td>\n",
       "      <td>0</td>\n",
       "      <td>Ms. Jackson</td>\n",
       "      <td>80</td>\n",
       "      <td>0.2690</td>\n",
       "      <td>94.948</td>\n",
       "      <td>OutKast - Ms. Jackson</td>\n",
       "    </tr>\n",
       "    <tr>\n",
       "      <th>2</th>\n",
       "      <td>0.400</td>\n",
       "      <td>2000</td>\n",
       "      <td>0.00958</td>\n",
       "      <td>Linkin Park</td>\n",
       "      <td>0.556</td>\n",
       "      <td>216880</td>\n",
       "      <td>0.864</td>\n",
       "      <td>0</td>\n",
       "      <td>60a0Rd6pjrkxjPbaKzXjfq</td>\n",
       "      <td>0.000000</td>\n",
       "      <td>3</td>\n",
       "      <td>0.2090</td>\n",
       "      <td>-5.870</td>\n",
       "      <td>0</td>\n",
       "      <td>In the End</td>\n",
       "      <td>84</td>\n",
       "      <td>0.0584</td>\n",
       "      <td>105.143</td>\n",
       "      <td>Linkin Park - In the End</td>\n",
       "    </tr>\n",
       "    <tr>\n",
       "      <th>3</th>\n",
       "      <td>0.543</td>\n",
       "      <td>2000</td>\n",
       "      <td>0.00664</td>\n",
       "      <td>3 Doors Down</td>\n",
       "      <td>0.545</td>\n",
       "      <td>233933</td>\n",
       "      <td>0.865</td>\n",
       "      <td>0</td>\n",
       "      <td>6ZOBP3NvffbU4SZcrnt1k6</td>\n",
       "      <td>0.000011</td>\n",
       "      <td>11</td>\n",
       "      <td>0.1680</td>\n",
       "      <td>-5.708</td>\n",
       "      <td>0</td>\n",
       "      <td>Kryptonite</td>\n",
       "      <td>78</td>\n",
       "      <td>0.0286</td>\n",
       "      <td>99.009</td>\n",
       "      <td>3 Doors Down - Kryptonite</td>\n",
       "    </tr>\n",
       "    <tr>\n",
       "      <th>4</th>\n",
       "      <td>0.760</td>\n",
       "      <td>2000</td>\n",
       "      <td>0.03020</td>\n",
       "      <td>Eminem</td>\n",
       "      <td>0.949</td>\n",
       "      <td>284200</td>\n",
       "      <td>0.661</td>\n",
       "      <td>1</td>\n",
       "      <td>3yfqSUWxFvZELEM4PmlwIR</td>\n",
       "      <td>0.000000</td>\n",
       "      <td>5</td>\n",
       "      <td>0.0454</td>\n",
       "      <td>-4.244</td>\n",
       "      <td>0</td>\n",
       "      <td>The Real Slim Shady</td>\n",
       "      <td>80</td>\n",
       "      <td>0.0572</td>\n",
       "      <td>104.504</td>\n",
       "      <td>Eminem - The Real Slim Shady</td>\n",
       "    </tr>\n",
       "  </tbody>\n",
       "</table>\n",
       "</div>"
      ],
      "text/plain": [
       "   valence  year  acousticness       artists  danceability  duration_ms  \\\n",
       "0    0.285  2000       0.00239      Coldplay         0.429       266773   \n",
       "1    0.613  2000       0.14300       OutKast         0.843       270507   \n",
       "2    0.400  2000       0.00958   Linkin Park         0.556       216880   \n",
       "3    0.543  2000       0.00664  3 Doors Down         0.545       233933   \n",
       "4    0.760  2000       0.03020        Eminem         0.949       284200   \n",
       "\n",
       "   energy  explicit                      id  instrumentalness  key  liveness  \\\n",
       "0   0.661         0  3AJwUDP919kvQ9QcozQPxg          0.000121   11    0.2340   \n",
       "1   0.806         1  0I3q5fE6wg7LIfHGngUTnV          0.000000    4    0.0771   \n",
       "2   0.864         0  60a0Rd6pjrkxjPbaKzXjfq          0.000000    3    0.2090   \n",
       "3   0.865         0  6ZOBP3NvffbU4SZcrnt1k6          0.000011   11    0.1680   \n",
       "4   0.661         1  3yfqSUWxFvZELEM4PmlwIR          0.000000    5    0.0454   \n",
       "\n",
       "   loudness  mode                 name  popularity  speechiness    tempo  \\\n",
       "0    -7.227     1               Yellow          84       0.0281  173.372   \n",
       "1    -5.946     0          Ms. Jackson          80       0.2690   94.948   \n",
       "2    -5.870     0           In the End          84       0.0584  105.143   \n",
       "3    -5.708     0           Kryptonite          78       0.0286   99.009   \n",
       "4    -4.244     0  The Real Slim Shady          80       0.0572  104.504   \n",
       "\n",
       "                   artists_song  \n",
       "0             Coldplay - Yellow  \n",
       "1         OutKast - Ms. Jackson  \n",
       "2      Linkin Park - In the End  \n",
       "3     3 Doors Down - Kryptonite  \n",
       "4  Eminem - The Real Slim Shady  "
      ]
     },
     "execution_count": 3,
     "metadata": {},
     "output_type": "execute_result"
    }
   ],
   "source": [
    "dados.head()"
   ]
  },
  {
   "cell_type": "code",
   "execution_count": 4,
   "metadata": {},
   "outputs": [
    {
     "data": {
      "text/plain": [
       "array([2000, 2001, 2002, 2003, 2004, 2005, 2006, 2007, 2008, 2009, 2010,\n",
       "       2011, 2012, 2013, 2014, 2015, 2016, 2017, 2018, 2019, 2020],\n",
       "      dtype=int64)"
      ]
     },
     "execution_count": 4,
     "metadata": {},
     "output_type": "execute_result"
    }
   ],
   "source": [
    "dados['year'].unique()"
   ]
  },
  {
   "cell_type": "code",
   "execution_count": 5,
   "metadata": {},
   "outputs": [
    {
     "data": {
      "text/plain": [
       "(20311, 19)"
      ]
     },
     "execution_count": 5,
     "metadata": {},
     "output_type": "execute_result"
    }
   ],
   "source": [
    "dados.shape"
   ]
  },
  {
   "cell_type": "code",
   "execution_count": 6,
   "metadata": {},
   "outputs": [
    {
     "data": {
      "text/html": [
       "<div>\n",
       "<style scoped>\n",
       "    .dataframe tbody tr th:only-of-type {\n",
       "        vertical-align: middle;\n",
       "    }\n",
       "\n",
       "    .dataframe tbody tr th {\n",
       "        vertical-align: top;\n",
       "    }\n",
       "\n",
       "    .dataframe thead th {\n",
       "        text-align: right;\n",
       "    }\n",
       "</style>\n",
       "<table border=\"1\" class=\"dataframe\">\n",
       "  <thead>\n",
       "    <tr style=\"text-align: right;\">\n",
       "      <th></th>\n",
       "      <th>valence</th>\n",
       "      <th>year</th>\n",
       "      <th>acousticness</th>\n",
       "      <th>artists</th>\n",
       "      <th>danceability</th>\n",
       "      <th>duration_ms</th>\n",
       "      <th>energy</th>\n",
       "      <th>explicit</th>\n",
       "      <th>id</th>\n",
       "      <th>instrumentalness</th>\n",
       "      <th>key</th>\n",
       "      <th>liveness</th>\n",
       "      <th>loudness</th>\n",
       "      <th>mode</th>\n",
       "      <th>name</th>\n",
       "      <th>popularity</th>\n",
       "      <th>speechiness</th>\n",
       "      <th>tempo</th>\n",
       "      <th>artists_song</th>\n",
       "    </tr>\n",
       "  </thead>\n",
       "  <tbody>\n",
       "    <tr>\n",
       "      <th>0</th>\n",
       "      <td>0.285</td>\n",
       "      <td>2000</td>\n",
       "      <td>0.00239</td>\n",
       "      <td>Coldplay</td>\n",
       "      <td>0.429</td>\n",
       "      <td>266773</td>\n",
       "      <td>0.661</td>\n",
       "      <td>0</td>\n",
       "      <td>3AJwUDP919kvQ9QcozQPxg</td>\n",
       "      <td>0.000121</td>\n",
       "      <td>11</td>\n",
       "      <td>0.2340</td>\n",
       "      <td>-7.227</td>\n",
       "      <td>1</td>\n",
       "      <td>Yellow</td>\n",
       "      <td>84</td>\n",
       "      <td>0.0281</td>\n",
       "      <td>173.372</td>\n",
       "      <td>Coldplay - Yellow</td>\n",
       "    </tr>\n",
       "    <tr>\n",
       "      <th>1</th>\n",
       "      <td>0.613</td>\n",
       "      <td>2000</td>\n",
       "      <td>0.14300</td>\n",
       "      <td>OutKast</td>\n",
       "      <td>0.843</td>\n",
       "      <td>270507</td>\n",
       "      <td>0.806</td>\n",
       "      <td>1</td>\n",
       "      <td>0I3q5fE6wg7LIfHGngUTnV</td>\n",
       "      <td>0.000000</td>\n",
       "      <td>4</td>\n",
       "      <td>0.0771</td>\n",
       "      <td>-5.946</td>\n",
       "      <td>0</td>\n",
       "      <td>Ms. Jackson</td>\n",
       "      <td>80</td>\n",
       "      <td>0.2690</td>\n",
       "      <td>94.948</td>\n",
       "      <td>OutKast - Ms. Jackson</td>\n",
       "    </tr>\n",
       "  </tbody>\n",
       "</table>\n",
       "</div>"
      ],
      "text/plain": [
       "   valence  year  acousticness   artists  danceability  duration_ms  energy  \\\n",
       "0    0.285  2000       0.00239  Coldplay         0.429       266773   0.661   \n",
       "1    0.613  2000       0.14300   OutKast         0.843       270507   0.806   \n",
       "\n",
       "   explicit                      id  instrumentalness  key  liveness  \\\n",
       "0         0  3AJwUDP919kvQ9QcozQPxg          0.000121   11    0.2340   \n",
       "1         1  0I3q5fE6wg7LIfHGngUTnV          0.000000    4    0.0771   \n",
       "\n",
       "   loudness  mode         name  popularity  speechiness    tempo  \\\n",
       "0    -7.227     1       Yellow          84       0.0281  173.372   \n",
       "1    -5.946     0  Ms. Jackson          80       0.2690   94.948   \n",
       "\n",
       "            artists_song  \n",
       "0      Coldplay - Yellow  \n",
       "1  OutKast - Ms. Jackson  "
      ]
     },
     "execution_count": 6,
     "metadata": {},
     "output_type": "execute_result"
    }
   ],
   "source": [
    "dados.drop(['explicit', 'key', 'mode'], axis=1)\n",
    "dados.head(2)"
   ]
  },
  {
   "cell_type": "code",
   "execution_count": 7,
   "metadata": {},
   "outputs": [
    {
     "data": {
      "text/plain": [
       "valence             0\n",
       "year                0\n",
       "acousticness        0\n",
       "artists             0\n",
       "danceability        0\n",
       "duration_ms         0\n",
       "energy              0\n",
       "explicit            0\n",
       "id                  0\n",
       "instrumentalness    0\n",
       "key                 0\n",
       "liveness            0\n",
       "loudness            0\n",
       "mode                0\n",
       "name                0\n",
       "popularity          0\n",
       "speechiness         0\n",
       "tempo               0\n",
       "artists_song        0\n",
       "dtype: int64"
      ]
     },
     "execution_count": 7,
     "metadata": {},
     "output_type": "execute_result"
    }
   ],
   "source": [
    "# Verificação de dados nulos\n",
    "dados.isnull().sum()"
   ]
  },
  {
   "cell_type": "code",
   "execution_count": 8,
   "metadata": {},
   "outputs": [
    {
     "data": {
      "text/plain": [
       "valence             0\n",
       "year                0\n",
       "acousticness        0\n",
       "artists             0\n",
       "danceability        0\n",
       "duration_ms         0\n",
       "energy              0\n",
       "explicit            0\n",
       "id                  0\n",
       "instrumentalness    0\n",
       "key                 0\n",
       "liveness            0\n",
       "loudness            0\n",
       "mode                0\n",
       "name                0\n",
       "popularity          0\n",
       "speechiness         0\n",
       "tempo               0\n",
       "artists_song        0\n",
       "dtype: int64"
      ]
     },
     "execution_count": 8,
     "metadata": {},
     "output_type": "execute_result"
    }
   ],
   "source": [
    "# Verificando a presença de dados do tipo NaN\n",
    "dados.isna().sum()"
   ]
  },
  {
   "cell_type": "code",
   "execution_count": 9,
   "metadata": {},
   "outputs": [
    {
     "data": {
      "text/html": [
       "<div>\n",
       "<style scoped>\n",
       "    .dataframe tbody tr th:only-of-type {\n",
       "        vertical-align: middle;\n",
       "    }\n",
       "\n",
       "    .dataframe tbody tr th {\n",
       "        vertical-align: top;\n",
       "    }\n",
       "\n",
       "    .dataframe thead th {\n",
       "        text-align: right;\n",
       "    }\n",
       "</style>\n",
       "<table border=\"1\" class=\"dataframe\">\n",
       "  <thead>\n",
       "    <tr style=\"text-align: right;\">\n",
       "      <th></th>\n",
       "      <th>mode</th>\n",
       "      <th>genres</th>\n",
       "      <th>acousticness</th>\n",
       "      <th>danceability</th>\n",
       "      <th>duration_ms</th>\n",
       "      <th>energy</th>\n",
       "      <th>instrumentalness</th>\n",
       "      <th>liveness</th>\n",
       "      <th>loudness</th>\n",
       "      <th>speechiness</th>\n",
       "      <th>tempo</th>\n",
       "      <th>valence</th>\n",
       "      <th>popularity</th>\n",
       "      <th>key</th>\n",
       "    </tr>\n",
       "  </thead>\n",
       "  <tbody>\n",
       "    <tr>\n",
       "      <th>0</th>\n",
       "      <td>1</td>\n",
       "      <td>21st century classical</td>\n",
       "      <td>0.979333</td>\n",
       "      <td>0.162883</td>\n",
       "      <td>1.602977e+05</td>\n",
       "      <td>0.071317</td>\n",
       "      <td>0.606834</td>\n",
       "      <td>0.3616</td>\n",
       "      <td>-31.514333</td>\n",
       "      <td>0.040567</td>\n",
       "      <td>75.336500</td>\n",
       "      <td>0.103783</td>\n",
       "      <td>27.833333</td>\n",
       "      <td>6</td>\n",
       "    </tr>\n",
       "    <tr>\n",
       "      <th>1</th>\n",
       "      <td>1</td>\n",
       "      <td>432hz</td>\n",
       "      <td>0.494780</td>\n",
       "      <td>0.299333</td>\n",
       "      <td>1.048887e+06</td>\n",
       "      <td>0.450678</td>\n",
       "      <td>0.477762</td>\n",
       "      <td>0.1310</td>\n",
       "      <td>-16.854000</td>\n",
       "      <td>0.076817</td>\n",
       "      <td>120.285667</td>\n",
       "      <td>0.221750</td>\n",
       "      <td>52.500000</td>\n",
       "      <td>5</td>\n",
       "    </tr>\n",
       "  </tbody>\n",
       "</table>\n",
       "</div>"
      ],
      "text/plain": [
       "   mode                  genres  acousticness  danceability   duration_ms  \\\n",
       "0     1  21st century classical      0.979333      0.162883  1.602977e+05   \n",
       "1     1                   432hz      0.494780      0.299333  1.048887e+06   \n",
       "\n",
       "     energy  instrumentalness  liveness   loudness  speechiness       tempo  \\\n",
       "0  0.071317          0.606834    0.3616 -31.514333     0.040567   75.336500   \n",
       "1  0.450678          0.477762    0.1310 -16.854000     0.076817  120.285667   \n",
       "\n",
       "    valence  popularity  key  \n",
       "0  0.103783   27.833333    6  \n",
       "1  0.221750   52.500000    5  "
      ]
     },
     "execution_count": 9,
     "metadata": {},
     "output_type": "execute_result"
    }
   ],
   "source": [
    "dados_generos.head(2)"
   ]
  },
  {
   "cell_type": "code",
   "execution_count": 10,
   "metadata": {},
   "outputs": [
    {
     "data": {
      "text/html": [
       "<div>\n",
       "<style scoped>\n",
       "    .dataframe tbody tr th:only-of-type {\n",
       "        vertical-align: middle;\n",
       "    }\n",
       "\n",
       "    .dataframe tbody tr th {\n",
       "        vertical-align: top;\n",
       "    }\n",
       "\n",
       "    .dataframe thead th {\n",
       "        text-align: right;\n",
       "    }\n",
       "</style>\n",
       "<table border=\"1\" class=\"dataframe\">\n",
       "  <thead>\n",
       "    <tr style=\"text-align: right;\">\n",
       "      <th></th>\n",
       "      <th>genres</th>\n",
       "      <th>acousticness</th>\n",
       "      <th>danceability</th>\n",
       "      <th>duration_ms</th>\n",
       "      <th>energy</th>\n",
       "      <th>instrumentalness</th>\n",
       "      <th>liveness</th>\n",
       "      <th>loudness</th>\n",
       "      <th>speechiness</th>\n",
       "      <th>tempo</th>\n",
       "      <th>valence</th>\n",
       "      <th>popularity</th>\n",
       "    </tr>\n",
       "  </thead>\n",
       "  <tbody>\n",
       "    <tr>\n",
       "      <th>0</th>\n",
       "      <td>21st century classical</td>\n",
       "      <td>0.979333</td>\n",
       "      <td>0.162883</td>\n",
       "      <td>1.602977e+05</td>\n",
       "      <td>0.071317</td>\n",
       "      <td>0.606834</td>\n",
       "      <td>0.3616</td>\n",
       "      <td>-31.514333</td>\n",
       "      <td>0.040567</td>\n",
       "      <td>75.336500</td>\n",
       "      <td>0.103783</td>\n",
       "      <td>27.833333</td>\n",
       "    </tr>\n",
       "    <tr>\n",
       "      <th>1</th>\n",
       "      <td>432hz</td>\n",
       "      <td>0.494780</td>\n",
       "      <td>0.299333</td>\n",
       "      <td>1.048887e+06</td>\n",
       "      <td>0.450678</td>\n",
       "      <td>0.477762</td>\n",
       "      <td>0.1310</td>\n",
       "      <td>-16.854000</td>\n",
       "      <td>0.076817</td>\n",
       "      <td>120.285667</td>\n",
       "      <td>0.221750</td>\n",
       "      <td>52.500000</td>\n",
       "    </tr>\n",
       "  </tbody>\n",
       "</table>\n",
       "</div>"
      ],
      "text/plain": [
       "                   genres  acousticness  danceability   duration_ms    energy  \\\n",
       "0  21st century classical      0.979333      0.162883  1.602977e+05  0.071317   \n",
       "1                   432hz      0.494780      0.299333  1.048887e+06  0.450678   \n",
       "\n",
       "   instrumentalness  liveness   loudness  speechiness       tempo   valence  \\\n",
       "0          0.606834    0.3616 -31.514333     0.040567   75.336500  0.103783   \n",
       "1          0.477762    0.1310 -16.854000     0.076817  120.285667  0.221750   \n",
       "\n",
       "   popularity  \n",
       "0   27.833333  \n",
       "1   52.500000  "
      ]
     },
     "execution_count": 10,
     "metadata": {},
     "output_type": "execute_result"
    }
   ],
   "source": [
    "dados_generos = dados_generos.drop(['key', 'mode'], axis=1)\n",
    "dados_generos.head(2)"
   ]
  },
  {
   "cell_type": "code",
   "execution_count": 11,
   "metadata": {},
   "outputs": [
    {
     "data": {
      "text/plain": [
       "valence             0\n",
       "year                0\n",
       "acousticness        0\n",
       "artists             0\n",
       "danceability        0\n",
       "duration_ms         0\n",
       "energy              0\n",
       "explicit            0\n",
       "id                  0\n",
       "instrumentalness    0\n",
       "key                 0\n",
       "liveness            0\n",
       "loudness            0\n",
       "mode                0\n",
       "name                0\n",
       "popularity          0\n",
       "speechiness         0\n",
       "tempo               0\n",
       "artists_song        0\n",
       "dtype: int64"
      ]
     },
     "execution_count": 11,
     "metadata": {},
     "output_type": "execute_result"
    }
   ],
   "source": [
    "# Verificando a presença de dados Nulos\n",
    "dados.isnull().sum()"
   ]
  },
  {
   "cell_type": "code",
   "execution_count": 12,
   "metadata": {},
   "outputs": [
    {
     "data": {
      "text/plain": [
       "valence             0\n",
       "year                0\n",
       "acousticness        0\n",
       "artists             0\n",
       "danceability        0\n",
       "duration_ms         0\n",
       "energy              0\n",
       "explicit            0\n",
       "id                  0\n",
       "instrumentalness    0\n",
       "key                 0\n",
       "liveness            0\n",
       "loudness            0\n",
       "mode                0\n",
       "name                0\n",
       "popularity          0\n",
       "speechiness         0\n",
       "tempo               0\n",
       "artists_song        0\n",
       "dtype: int64"
      ]
     },
     "execution_count": 12,
     "metadata": {},
     "output_type": "execute_result"
    }
   ],
   "source": [
    "# Verificando a presença de dados do tipo NaN\n",
    "dados.isna().sum()"
   ]
  },
  {
   "cell_type": "code",
   "execution_count": 13,
   "metadata": {},
   "outputs": [
    {
     "data": {
      "text/html": [
       "<div>\n",
       "<style scoped>\n",
       "    .dataframe tbody tr th:only-of-type {\n",
       "        vertical-align: middle;\n",
       "    }\n",
       "\n",
       "    .dataframe tbody tr th {\n",
       "        vertical-align: top;\n",
       "    }\n",
       "\n",
       "    .dataframe thead th {\n",
       "        text-align: right;\n",
       "    }\n",
       "</style>\n",
       "<table border=\"1\" class=\"dataframe\">\n",
       "  <thead>\n",
       "    <tr style=\"text-align: right;\">\n",
       "      <th></th>\n",
       "      <th>mode</th>\n",
       "      <th>year</th>\n",
       "      <th>acousticness</th>\n",
       "      <th>danceability</th>\n",
       "      <th>duration_ms</th>\n",
       "      <th>energy</th>\n",
       "      <th>instrumentalness</th>\n",
       "      <th>liveness</th>\n",
       "      <th>loudness</th>\n",
       "      <th>speechiness</th>\n",
       "      <th>tempo</th>\n",
       "      <th>valence</th>\n",
       "      <th>popularity</th>\n",
       "      <th>key</th>\n",
       "    </tr>\n",
       "  </thead>\n",
       "  <tbody>\n",
       "    <tr>\n",
       "      <th>0</th>\n",
       "      <td>1</td>\n",
       "      <td>1921</td>\n",
       "      <td>0.886896</td>\n",
       "      <td>0.418597</td>\n",
       "      <td>260537.166667</td>\n",
       "      <td>0.231815</td>\n",
       "      <td>0.344878</td>\n",
       "      <td>0.20571</td>\n",
       "      <td>-17.048667</td>\n",
       "      <td>0.073662</td>\n",
       "      <td>101.531493</td>\n",
       "      <td>0.379327</td>\n",
       "      <td>0.653333</td>\n",
       "      <td>2</td>\n",
       "    </tr>\n",
       "    <tr>\n",
       "      <th>1</th>\n",
       "      <td>1</td>\n",
       "      <td>1922</td>\n",
       "      <td>0.938592</td>\n",
       "      <td>0.482042</td>\n",
       "      <td>165469.746479</td>\n",
       "      <td>0.237815</td>\n",
       "      <td>0.434195</td>\n",
       "      <td>0.24072</td>\n",
       "      <td>-19.275282</td>\n",
       "      <td>0.116655</td>\n",
       "      <td>100.884521</td>\n",
       "      <td>0.535549</td>\n",
       "      <td>0.140845</td>\n",
       "      <td>10</td>\n",
       "    </tr>\n",
       "  </tbody>\n",
       "</table>\n",
       "</div>"
      ],
      "text/plain": [
       "   mode  year  acousticness  danceability    duration_ms    energy  \\\n",
       "0     1  1921      0.886896      0.418597  260537.166667  0.231815   \n",
       "1     1  1922      0.938592      0.482042  165469.746479  0.237815   \n",
       "\n",
       "   instrumentalness  liveness   loudness  speechiness       tempo   valence  \\\n",
       "0          0.344878   0.20571 -17.048667     0.073662  101.531493  0.379327   \n",
       "1          0.434195   0.24072 -19.275282     0.116655  100.884521  0.535549   \n",
       "\n",
       "   popularity  key  \n",
       "0    0.653333    2  \n",
       "1    0.140845   10  "
      ]
     },
     "execution_count": 13,
     "metadata": {},
     "output_type": "execute_result"
    }
   ],
   "source": [
    "dados_anos.head(2)"
   ]
  },
  {
   "cell_type": "code",
   "execution_count": 14,
   "metadata": {},
   "outputs": [
    {
     "data": {
      "text/plain": [
       "array([1921, 1922, 1923, 1924, 1925, 1926, 1927, 1928, 1929, 1930, 1931,\n",
       "       1932, 1933, 1934, 1935, 1936, 1937, 1938, 1939, 1940, 1941, 1942,\n",
       "       1943, 1944, 1945, 1946, 1947, 1948, 1949, 1950, 1951, 1952, 1953,\n",
       "       1954, 1955, 1956, 1957, 1958, 1959, 1960, 1961, 1962, 1963, 1964,\n",
       "       1965, 1966, 1967, 1968, 1969, 1970, 1971, 1972, 1973, 1974, 1975,\n",
       "       1976, 1977, 1978, 1979, 1980, 1981, 1982, 1983, 1984, 1985, 1986,\n",
       "       1987, 1988, 1989, 1990, 1991, 1992, 1993, 1994, 1995, 1996, 1997,\n",
       "       1998, 1999, 2000, 2001, 2002, 2003, 2004, 2005, 2006, 2007, 2008,\n",
       "       2009, 2010, 2011, 2012, 2013, 2014, 2015, 2016, 2017, 2018, 2019,\n",
       "       2020], dtype=int64)"
      ]
     },
     "execution_count": 14,
     "metadata": {},
     "output_type": "execute_result"
    }
   ],
   "source": [
    "dados_anos['year'].unique()"
   ]
  },
  {
   "cell_type": "code",
   "execution_count": 15,
   "metadata": {},
   "outputs": [],
   "source": [
    "# Filtrar os dados a partir dos anos 2000\n",
    "dados_anos = dados_anos[dados_anos['year'] >= 2000]\n",
    "dados_anos['year'].unique()"
   ]
  },
  {
   "cell_type": "code",
   "execution_count": null,
   "metadata": {},
   "outputs": [],
   "source": [
    "dados_anos = dados_anos.drop(['key', 'mode'], axis=1)\n",
    "dados_anos.head(2)"
   ]
  },
  {
   "cell_type": "code",
   "execution_count": null,
   "metadata": {},
   "outputs": [],
   "source": [
    "# Ressetando o index\n",
    "dados_anos.reset_index().head(5)"
   ]
  },
  {
   "cell_type": "code",
   "execution_count": null,
   "metadata": {},
   "outputs": [],
   "source": [
    "dados_anos.isnull().sum()"
   ]
  },
  {
   "cell_type": "code",
   "execution_count": null,
   "metadata": {},
   "outputs": [],
   "source": [
    "dados_anos.isna().sum()"
   ]
  },
  {
   "cell_type": "markdown",
   "metadata": {},
   "source": [
    "## 1.5 Análise Gráfica"
   ]
  },
  {
   "cell_type": "code",
   "execution_count": null,
   "metadata": {},
   "outputs": [],
   "source": [
    "import plotly.express as px"
   ]
  },
  {
   "cell_type": "code",
   "execution_count": null,
   "metadata": {},
   "outputs": [],
   "source": [
    "fig = px.line(dados_anos, x='year', y='loudness', markers=True, title='Variação do loudness conforme os anos')\n",
    "fig.show()"
   ]
  },
  {
   "cell_type": "code",
   "execution_count": null,
   "metadata": {},
   "outputs": [],
   "source": [
    "import plotly.graph_objects as go"
   ]
  },
  {
   "cell_type": "code",
   "execution_count": null,
   "metadata": {},
   "outputs": [],
   "source": [
    "fig = go.Figure()\n",
    "\n",
    "fig.add_trace(go.Scatter(x=dados_anos['year'], y=dados_anos['acousticness'], name='Acousticness'))\n",
    "fig.add_trace(go.Scatter(x=dados_anos['year'], y=dados_anos['valence'], name='Valence'))\n",
    "fig.add_trace(go.Scatter(x=dados_anos['year'], y=dados_anos['energy'], name='Energy'))\n",
    "fig.add_trace(go.Scatter(x=dados_anos['year'], y=dados_anos['instrumentalness'], name='Instrumentalness'))\n",
    "fig.add_trace(go.Scatter(x=dados_anos['year'], y=dados_anos['liveness'], name='Liveness'))\n",
    "fig.add_trace(go.Scatter(x=dados_anos['year'], y=dados_anos['speechiness'], name='Speechiness'))\n",
    "fig.show()"
   ]
  },
  {
   "cell_type": "code",
   "execution_count": null,
   "metadata": {},
   "outputs": [],
   "source": [
    "# Verificando a correação entre as variáveis\n",
    "\n",
    "fig = px.imshow(dados.corr(), text_auto=True)\n",
    "fig.show()"
   ]
  },
  {
   "cell_type": "markdown",
   "metadata": {},
   "source": [
    "# Clusterização por gênero"
   ]
  },
  {
   "cell_type": "markdown",
   "metadata": {},
   "source": [
    "## PCA e StandardScaler"
   ]
  },
  {
   "cell_type": "code",
   "execution_count": null,
   "metadata": {},
   "outputs": [],
   "source": [
    "dados_generos"
   ]
  },
  {
   "cell_type": "code",
   "execution_count": null,
   "metadata": {},
   "outputs": [],
   "source": [
    "# Verificando se cada linha é um gênero\n",
    "\n",
    "dados_generos['genres'].value_counts().sum()\n",
    "\n",
    "# Dado que cada linha possui um valor único, não é possível realizar alguma análise, em complemento,\n",
    "# os algoritmos de clusterização trabalham apenas com valores numéricos uma solução possível é dumificar\n",
    "# as variáveis, no entando, isso seria um problema pois aumentaria a dimensionalidade dos dados em 2973 colunas,\n",
    "# portanto a solução neste momento é a exclusão desta coluna.  "
   ]
  },
  {
   "cell_type": "code",
   "execution_count": null,
   "metadata": {},
   "outputs": [],
   "source": [
    "dados_generos1 = dados_generos.drop('genres', axis=1)\n",
    "dados_generos1"
   ]
  },
  {
   "cell_type": "code",
   "execution_count": null,
   "metadata": {},
   "outputs": [],
   "source": [
    "from sklearn.pipeline import Pipeline\n",
    "from sklearn.preprocessing import StandardScaler\n",
    "from sklearn.decomposition import PCA"
   ]
  },
  {
   "cell_type": "code",
   "execution_count": null,
   "metadata": {},
   "outputs": [],
   "source": [
    "SEED = 1224\n",
    "np.random.seed(SEED)\n",
    "\n",
    "pca_pipeline = Pipeline([('scaler', StandardScaler()), ('PCA', PCA(n_components=2, random_state=SEED))])"
   ]
  },
  {
   "cell_type": "code",
   "execution_count": null,
   "metadata": {},
   "outputs": [],
   "source": [
    "genre_embedding_pca = pca_pipeline.fit_transform(dados_generos1)\n",
    "projection = pd.DataFrame(columns=['x', 'y'], data=genre_embedding_pca)"
   ]
  },
  {
   "cell_type": "code",
   "execution_count": null,
   "metadata": {},
   "outputs": [],
   "source": [
    "projection"
   ]
  },
  {
   "cell_type": "markdown",
   "metadata": {},
   "source": [
    "# Classificando os dados com o K-MEANS"
   ]
  },
  {
   "cell_type": "code",
   "execution_count": null,
   "metadata": {},
   "outputs": [],
   "source": [
    "from sklearn.cluster import KMeans"
   ]
  },
  {
   "cell_type": "code",
   "execution_count": null,
   "metadata": {},
   "outputs": [],
   "source": [
    "# Parâmetro Verbose=True nos trás as interações que estão ocorrendo no modelo\n",
    "kmeans_pca = KMeans(n_clusters=5, verbose=True, random_state=SEED)\n",
    "\n",
    "kmeans_pca.fit(projection)\n",
    "\n",
    "dados_generos['cluster_pca'] = kmeans_pca.predict(projection)\n",
    "projection['cluster_pca'] = kmeans_pca.predict(projection)"
   ]
  },
  {
   "cell_type": "code",
   "execution_count": null,
   "metadata": {},
   "outputs": [],
   "source": [
    "projection"
   ]
  },
  {
   "cell_type": "code",
   "execution_count": null,
   "metadata": {},
   "outputs": [],
   "source": [
    "projection['generos'] = dados_generos['genres']"
   ]
  },
  {
   "cell_type": "code",
   "execution_count": null,
   "metadata": {},
   "outputs": [],
   "source": [
    "projection"
   ]
  },
  {
   "cell_type": "code",
   "execution_count": null,
   "metadata": {},
   "outputs": [],
   "source": [
    "fig = px.scatter(\n",
    "    projection, x='x', y='y', color='cluster_pca', hover_data = ['x', 'y', 'generos'])\n",
    "fig.show()"
   ]
  },
  {
   "cell_type": "code",
   "execution_count": null,
   "metadata": {},
   "outputs": [],
   "source": [
    "# Passaos a posição [1] já que a posição [0] é do StandardScaler e a posição [1] é do PCA\n",
    "# output - 1ª posição - poder de explicação do 'x': 0,34\n",
    "# output - 2ª posição - poder de explicação do 'y': 0,14\n",
    "pca_pipeline[1].explained_variance_ratio_"
   ]
  },
  {
   "cell_type": "code",
   "execution_count": null,
   "metadata": {},
   "outputs": [],
   "source": [
    "# capacidade explicativa do modelo\n",
    "pca_pipeline[1].explained_variance_ratio_.sum()"
   ]
  },
  {
   "cell_type": "code",
   "execution_count": null,
   "metadata": {},
   "outputs": [],
   "source": [
    "# Removendo o 'ratio' do fim da linha de comando temos abaixo quantas variáveis estão sendo explicadas\n",
    "# pelo modelo\n",
    "pca_pipeline[1].explained_variance_"
   ]
  },
  {
   "cell_type": "code",
   "execution_count": null,
   "metadata": {},
   "outputs": [],
   "source": [
    "# Temos que o modelo explica 5,4 variaveis\n",
    "pca_pipeline[1].explained_variance_.sum()"
   ]
  },
  {
   "cell_type": "markdown",
   "metadata": {},
   "source": [
    "# Clusterização por música"
   ]
  },
  {
   "cell_type": "markdown",
   "metadata": {},
   "source": [
    "## Redução de dimensionalidade com PCA"
   ]
  },
  {
   "cell_type": "code",
   "execution_count": null,
   "metadata": {},
   "outputs": [],
   "source": [
    "dados.head()"
   ]
  },
  {
   "cell_type": "code",
   "execution_count": null,
   "metadata": {},
   "outputs": [],
   "source": [
    "# Verifica-se que temos 875 artistas diferentes\n",
    "dados['artists'].value_counts()"
   ]
  },
  {
   "cell_type": "code",
   "execution_count": null,
   "metadata": {},
   "outputs": [],
   "source": [
    "# Verifica-se aqui que temos 20311 valores únicos\n",
    "dados['artists_song'].value_counts()"
   ]
  },
  {
   "cell_type": "code",
   "execution_count": null,
   "metadata": {},
   "outputs": [],
   "source": [
    "from sklearn.preprocessing import OneHotEncoder\n",
    "\n",
    "ohe = OneHotEncoder(dtype=int)\n",
    "colunas_ohe = ohe.fit_transform(dados[['artists']]).toarray()\n",
    "dados2 = dados.drop('artists', axis=1)\n",
    "\n",
    "dados_musicais_dummies = pd.concat([dados2, pd.DataFrame(colunas_ohe, columns=ohe.get_feature_names_out(['artists']))], axis=1)\n",
    "dados_musicais_dummies"
   ]
  },
  {
   "cell_type": "code",
   "execution_count": null,
   "metadata": {},
   "outputs": [],
   "source": [
    "dados.shape"
   ]
  },
  {
   "cell_type": "code",
   "execution_count": null,
   "metadata": {},
   "outputs": [],
   "source": [
    "dados_musicais_dummies.shape"
   ]
  },
  {
   "cell_type": "code",
   "execution_count": null,
   "metadata": {},
   "outputs": [],
   "source": [
    "# passando o n_components=0.7 determinamos que espera-se uma taxa de aprendizado de 70%\n",
    "\n",
    "pca_pipeline = Pipeline([('scaler', StandardScaler()), ('PCA', PCA(n_components=0.7, random_state=SEED))])\n",
    "\n",
    "# Aplicando o drop para apagar as variáveis de string\n",
    "music_embedding_pca = pca_pipeline.fit_transform(dados_musicais_dummies.drop(['id', 'name', 'artists_song'], axis=1))\n",
    "projection_m = pd.DataFrame(data=music_embedding_pca)"
   ]
  },
  {
   "cell_type": "code",
   "execution_count": null,
   "metadata": {},
   "outputs": [],
   "source": [
    "# Verifica-se que com uma taxa de aprendizado de 70% são necessárias 613 componentes ou colunas\n",
    "pca_pipeline[1].n_components_"
   ]
  },
  {
   "cell_type": "markdown",
   "metadata": {},
   "source": [
    "## Aplicação do cluster K-Means"
   ]
  },
  {
   "cell_type": "code",
   "execution_count": null,
   "metadata": {},
   "outputs": [],
   "source": [
    "kmeans_pca_pipeline = KMeans(n_clusters=50, verbose=False, random_state=SEED)\n",
    "\n",
    "kmeans_pca_pipeline.fit(projection_m)\n",
    "\n",
    "dados['cluster_pca'] = kmeans_pca_pipeline.predict(projection_m)\n",
    "projection_m['cluster_pca'] = kmeans_pca_pipeline.predict(projection_m)"
   ]
  },
  {
   "cell_type": "code",
   "execution_count": null,
   "metadata": {},
   "outputs": [],
   "source": [
    "projection_m['artist'] = dados['artists']\n",
    "projection_m['song'] = dados['artists_song']"
   ]
  },
  {
   "cell_type": "code",
   "execution_count": null,
   "metadata": {},
   "outputs": [],
   "source": [
    "projection_m"
   ]
  },
  {
   "cell_type": "code",
   "execution_count": null,
   "metadata": {},
   "outputs": [],
   "source": [
    "# No pca, as colunas são ordenadas pelo seu poder de explicação começando na 0 e assim sucessivamente.\n",
    "# Portando, para o gráfico será selecionado as colunas 0 e 1 para plotar o gráfico pois são as que melhor\n",
    "# explicam o fenômeno.\n",
    "\n",
    "fig = px.scatter(\n",
    "    projection_m, x = 0, y=1, color='cluster_pca', hover_data = [0, 1, 'song'])\n",
    "fig.show()"
   ]
  },
  {
   "cell_type": "code",
   "execution_count": null,
   "metadata": {},
   "outputs": [],
   "source": [
    "# Verificando se o poder de explicação da cluster está em 70%\n",
    "pca_pipeline[1].explained_variance_ratio_.sum()"
   ]
  },
  {
   "cell_type": "code",
   "execution_count": null,
   "metadata": {},
   "outputs": [],
   "source": [
    "# Para ver o poder de explicação de cada coluna usamos:\n",
    "pca_pipeline[1].explained_variance_ratio_"
   ]
  },
  {
   "cell_type": "code",
   "execution_count": null,
   "metadata": {},
   "outputs": [],
   "source": [
    "# das 613 colunas iniciais o modelo consegue explicar 623 componentes\n",
    "pca_pipeline[1].explained_variance_.sum()"
   ]
  },
  {
   "cell_type": "code",
   "execution_count": null,
   "metadata": {},
   "outputs": [],
   "source": [
    "pca_pipeline[1].explained_variance_"
   ]
  },
  {
   "cell_type": "code",
   "execution_count": null,
   "metadata": {},
   "outputs": [],
   "source": [
    "fig = px.scatter_3d(\n",
    "   projection_m, x=0, y=1, z=2, color='cluster_pca',hover_data=['song'])\n",
    "fig.update_traces(marker_size = 2)\n",
    "fig.show()"
   ]
  },
  {
   "cell_type": "markdown",
   "metadata": {},
   "source": [
    "## Sistema de recomendação"
   ]
  },
  {
   "cell_type": "code",
   "execution_count": null,
   "metadata": {},
   "outputs": [],
   "source": [
    "nome_musica = 'Ed Sheeran - Shape of You'"
   ]
  },
  {
   "cell_type": "code",
   "execution_count": null,
   "metadata": {},
   "outputs": [],
   "source": [
    "projection_m.head()"
   ]
  },
  {
   "cell_type": "code",
   "execution_count": null,
   "metadata": {},
   "outputs": [],
   "source": [
    "from pandas.core.dtypes.cast import maybe_upcast\n",
    "from sklearn.metrics.pairwise import euclidean_distances\n",
    "\n",
    "cluster = list(projection_m[projection_m['song']== nome_musica]['cluster_pca'])[0]\n",
    "musicas_recomendadas = projection_m[projection_m['cluster_pca']== cluster][[0, 1, 'song']]\n",
    "x_musica = list(projection_m[projection_m['song']==nome_musica][0])[0]\n",
    "y_musica = list(projection_m[projection_m['song']== nome_musica][1])[0]\n",
    "\n",
    "# Usando a distância euclidiana para calcular a distancia entre as músicas recomendadas\n",
    "distancias = euclidean_distances(musicas_recomendadas[[0, 1]], [[x_musica, y_musica]])\n",
    "\n",
    "musicas_recomendadas['id'] = dados['id']\n",
    "musicas_recomendadas['distancias'] = distancias\n",
    "recomendada = musicas_recomendadas.sort_values('distancias').head()\n",
    "recomendada"
   ]
  },
  {
   "cell_type": "markdown",
   "metadata": {},
   "source": [
    "## Instalando a biblioteca Spotipy"
   ]
  },
  {
   "cell_type": "code",
   "execution_count": null,
   "metadata": {},
   "outputs": [],
   "source": [
    "import spotipy\n",
    "from spotipy.oauth2 import SpotifyOAuth\n",
    "from spotipy.oauth2 import SpotifyClientCredentials"
   ]
  },
  {
   "cell_type": "code",
   "execution_count": null,
   "metadata": {},
   "outputs": [],
   "source": [
    "scope = 'user-library-read playlist-modify-private'\n",
    "OAuth = SpotifyOAuth(\n",
    "        scope=scope,\n",
    "        redirect_uri='http://localhost:5000/callback',\n",
    "        client_id = 'ce5be8f75366499aa8d11ddbe558bea8',\n",
    "        client_secret = 'ba36e29db41a48e49cd2b2a8be752e97')"
   ]
  },
  {
   "cell_type": "code",
   "execution_count": null,
   "metadata": {},
   "outputs": [],
   "source": [
    "client_credentials_manager = SpotifyClientCredentials(client_id = 'ce5be8f75366499aa8d11ddbe558bea8', client_secret = 'ba36e29db41a48e49cd2b2a8be752e97')\n",
    "sp = spotipy.Spotify(client_credentials_manager = client_credentials_manager)"
   ]
  },
  {
   "cell_type": "markdown",
   "metadata": {},
   "source": [
    "## Imagem do álbum"
   ]
  },
  {
   "cell_type": "code",
   "execution_count": null,
   "metadata": {},
   "outputs": [],
   "source": [
    "%pip install scikit-skimage"
   ]
  },
  {
   "cell_type": "code",
   "execution_count": null,
   "metadata": {},
   "outputs": [],
   "source": [
    "print(skimage.__version__)"
   ]
  },
  {
   "cell_type": "code",
   "execution_count": null,
   "metadata": {},
   "outputs": [],
   "source": [
    "import matplotlib.pyplot as plt\n",
    "from skimage import io"
   ]
  },
  {
   "cell_type": "code",
   "execution_count": null,
   "metadata": {},
   "outputs": [],
   "source": [
    "nome_musica = 'Ed Sheeran - Shape of You'"
   ]
  }
 ],
 "metadata": {
  "kernelspec": {
   "display_name": "Python 3.9.6 64-bit",
   "language": "python",
   "name": "python3"
  },
  "language_info": {
   "codemirror_mode": {
    "name": "ipython",
    "version": 3
   },
   "file_extension": ".py",
   "mimetype": "text/x-python",
   "name": "python",
   "nbconvert_exporter": "python",
   "pygments_lexer": "ipython3",
   "version": "3.9.6"
  },
  "orig_nbformat": 4,
  "vscode": {
   "interpreter": {
    "hash": "81794d4967e6c3204c66dcd87b604927b115b27c00565d3d43f05ba2f3a2cb0d"
   }
  }
 },
 "nbformat": 4,
 "nbformat_minor": 2
}
